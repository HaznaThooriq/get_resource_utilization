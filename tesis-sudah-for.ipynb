{
 "cells": [
  {
   "cell_type": "code",
   "execution_count": 1,
   "id": "06c546b5",
   "metadata": {},
   "outputs": [],
   "source": [
    "#Import Library\n",
    "import psutil\n",
    "import pandas as pd\n",
    "import sched, time\n",
    "from datetime import datetime\n",
    "from IPython.lib import backgroundjobs as bg"
   ]
  },
  {
   "cell_type": "code",
   "execution_count": 2,
   "id": "55bff0fa",
   "metadata": {},
   "outputs": [],
   "source": [
    "do_process = True\n",
    "#jobs = bg.BackgroundJobManager()\n",
    "process_manager_list = {}\n",
    "\n",
    "def get_all_process(process = []):    \n",
    "    for pid in process:\n",
    "        jobs = bg.BackgroundJobManager()\n",
    "        def get_data(interval=1, reps=5):\n",
    "            process_manager = pd.DataFrame()\n",
    "            n=1\n",
    "            global do_process\n",
    "            while do_process:\n",
    "                time.sleep(interval)\n",
    "                p = psutil.Process(pid)\n",
    "                process_list = p.as_dict(attrs=\n",
    "                                     ['pid', 'name', 'connections', 'cpu_percent', 'memory_info', \n",
    "                                      'memory_percent', 'io_counters', 'exe'])\n",
    "                process_list ['timestamp'] = datetime.now().isoformat()\n",
    "                #print (datetime.now().isoformat())\n",
    "                process_manager = process_manager.append(process_list , ignore_index=True)\n",
    "                print('In the background... %i' % n)\n",
    "                n += 1\n",
    "                #print (process_list)\n",
    "            print (pid , process_manager.head())\n",
    "            process_manager.to_csv(str(pid) + '.csv')\n",
    "            #process_manager_list[pid] = process_manager\n",
    "            print('All done!')\n",
    "            #print(process_manager)\n",
    "        \n",
    "        #printfunc(1,10)\n",
    "        #global jobs\n",
    "        jobs.new(get_data, 1, 10) \n",
    "        jobs.status()"
   ]
  },
  {
   "cell_type": "code",
   "execution_count": 3,
   "id": "7bf2b352",
   "metadata": {},
   "outputs": [
    {
     "name": "stdout",
     "output_type": "stream",
     "text": [
      "Running jobs:\n",
      "0 : <function get_all_process.<locals>.get_data at 0x0000028EE29B6CB0>\n",
      "\n"
     ]
    },
    {
     "name": "stderr",
     "output_type": "stream",
     "text": [
      "C:\\Users\\Faizal Amiruddin\\AppData\\Local\\Temp\\ipykernel_12172\\2339415118.py:20: FutureWarning: The frame.append method is deprecated and will be removed from pandas in a future version. Use pandas.concat instead.\n",
      "  process_manager = process_manager.append(process_list , ignore_index=True)\n"
     ]
    },
    {
     "name": "stdout",
     "output_type": "stream",
     "text": [
      "In the background... 1\n"
     ]
    },
    {
     "name": "stderr",
     "output_type": "stream",
     "text": [
      "C:\\Users\\Faizal Amiruddin\\AppData\\Local\\Temp\\ipykernel_12172\\2339415118.py:20: FutureWarning: The frame.append method is deprecated and will be removed from pandas in a future version. Use pandas.concat instead.\n",
      "  process_manager = process_manager.append(process_list , ignore_index=True)\n"
     ]
    },
    {
     "name": "stdout",
     "output_type": "stream",
     "text": [
      "In the background... 2\n"
     ]
    },
    {
     "name": "stderr",
     "output_type": "stream",
     "text": [
      "C:\\Users\\Faizal Amiruddin\\AppData\\Local\\Temp\\ipykernel_12172\\2339415118.py:20: FutureWarning: The frame.append method is deprecated and will be removed from pandas in a future version. Use pandas.concat instead.\n",
      "  process_manager = process_manager.append(process_list , ignore_index=True)\n"
     ]
    },
    {
     "name": "stdout",
     "output_type": "stream",
     "text": [
      "In the background... 3\n"
     ]
    },
    {
     "name": "stderr",
     "output_type": "stream",
     "text": [
      "C:\\Users\\Faizal Amiruddin\\AppData\\Local\\Temp\\ipykernel_12172\\2339415118.py:20: FutureWarning: The frame.append method is deprecated and will be removed from pandas in a future version. Use pandas.concat instead.\n",
      "  process_manager = process_manager.append(process_list , ignore_index=True)\n"
     ]
    },
    {
     "name": "stdout",
     "output_type": "stream",
     "text": [
      "In the background... 4\n"
     ]
    },
    {
     "name": "stderr",
     "output_type": "stream",
     "text": [
      "C:\\Users\\Faizal Amiruddin\\AppData\\Local\\Temp\\ipykernel_12172\\2339415118.py:20: FutureWarning: The frame.append method is deprecated and will be removed from pandas in a future version. Use pandas.concat instead.\n",
      "  process_manager = process_manager.append(process_list , ignore_index=True)\n"
     ]
    },
    {
     "name": "stdout",
     "output_type": "stream",
     "text": [
      "In the background... 5\n"
     ]
    },
    {
     "name": "stderr",
     "output_type": "stream",
     "text": [
      "C:\\Users\\Faizal Amiruddin\\AppData\\Local\\Temp\\ipykernel_12172\\2339415118.py:20: FutureWarning: The frame.append method is deprecated and will be removed from pandas in a future version. Use pandas.concat instead.\n",
      "  process_manager = process_manager.append(process_list , ignore_index=True)\n"
     ]
    },
    {
     "name": "stdout",
     "output_type": "stream",
     "text": [
      "In the background... 6\n"
     ]
    },
    {
     "name": "stderr",
     "output_type": "stream",
     "text": [
      "C:\\Users\\Faizal Amiruddin\\AppData\\Local\\Temp\\ipykernel_12172\\2339415118.py:20: FutureWarning: The frame.append method is deprecated and will be removed from pandas in a future version. Use pandas.concat instead.\n",
      "  process_manager = process_manager.append(process_list , ignore_index=True)\n"
     ]
    },
    {
     "name": "stdout",
     "output_type": "stream",
     "text": [
      "In the background... 7\n"
     ]
    },
    {
     "name": "stderr",
     "output_type": "stream",
     "text": [
      "C:\\Users\\Faizal Amiruddin\\AppData\\Local\\Temp\\ipykernel_12172\\2339415118.py:20: FutureWarning: The frame.append method is deprecated and will be removed from pandas in a future version. Use pandas.concat instead.\n",
      "  process_manager = process_manager.append(process_list , ignore_index=True)\n"
     ]
    },
    {
     "name": "stdout",
     "output_type": "stream",
     "text": [
      "In the background... 8\n"
     ]
    },
    {
     "name": "stderr",
     "output_type": "stream",
     "text": [
      "C:\\Users\\Faizal Amiruddin\\AppData\\Local\\Temp\\ipykernel_12172\\2339415118.py:20: FutureWarning: The frame.append method is deprecated and will be removed from pandas in a future version. Use pandas.concat instead.\n",
      "  process_manager = process_manager.append(process_list , ignore_index=True)\n"
     ]
    },
    {
     "name": "stdout",
     "output_type": "stream",
     "text": [
      "In the background... 9\n"
     ]
    },
    {
     "name": "stderr",
     "output_type": "stream",
     "text": [
      "C:\\Users\\Faizal Amiruddin\\AppData\\Local\\Temp\\ipykernel_12172\\2339415118.py:20: FutureWarning: The frame.append method is deprecated and will be removed from pandas in a future version. Use pandas.concat instead.\n",
      "  process_manager = process_manager.append(process_list , ignore_index=True)\n"
     ]
    },
    {
     "name": "stdout",
     "output_type": "stream",
     "text": [
      "In the background... 10\n"
     ]
    },
    {
     "name": "stderr",
     "output_type": "stream",
     "text": [
      "C:\\Users\\Faizal Amiruddin\\AppData\\Local\\Temp\\ipykernel_12172\\2339415118.py:20: FutureWarning: The frame.append method is deprecated and will be removed from pandas in a future version. Use pandas.concat instead.\n",
      "  process_manager = process_manager.append(process_list , ignore_index=True)\n"
     ]
    },
    {
     "name": "stdout",
     "output_type": "stream",
     "text": [
      "In the background... 11\n"
     ]
    },
    {
     "name": "stderr",
     "output_type": "stream",
     "text": [
      "C:\\Users\\Faizal Amiruddin\\AppData\\Local\\Temp\\ipykernel_12172\\2339415118.py:20: FutureWarning: The frame.append method is deprecated and will be removed from pandas in a future version. Use pandas.concat instead.\n",
      "  process_manager = process_manager.append(process_list , ignore_index=True)\n"
     ]
    },
    {
     "name": "stdout",
     "output_type": "stream",
     "text": [
      "In the background... 12\n"
     ]
    },
    {
     "name": "stderr",
     "output_type": "stream",
     "text": [
      "C:\\Users\\Faizal Amiruddin\\AppData\\Local\\Temp\\ipykernel_12172\\2339415118.py:20: FutureWarning: The frame.append method is deprecated and will be removed from pandas in a future version. Use pandas.concat instead.\n",
      "  process_manager = process_manager.append(process_list , ignore_index=True)\n"
     ]
    },
    {
     "name": "stdout",
     "output_type": "stream",
     "text": [
      "In the background... 13\n"
     ]
    },
    {
     "name": "stderr",
     "output_type": "stream",
     "text": [
      "C:\\Users\\Faizal Amiruddin\\AppData\\Local\\Temp\\ipykernel_12172\\2339415118.py:20: FutureWarning: The frame.append method is deprecated and will be removed from pandas in a future version. Use pandas.concat instead.\n",
      "  process_manager = process_manager.append(process_list , ignore_index=True)\n"
     ]
    },
    {
     "name": "stdout",
     "output_type": "stream",
     "text": [
      "In the background... 14\n"
     ]
    },
    {
     "name": "stderr",
     "output_type": "stream",
     "text": [
      "C:\\Users\\Faizal Amiruddin\\AppData\\Local\\Temp\\ipykernel_12172\\2339415118.py:20: FutureWarning: The frame.append method is deprecated and will be removed from pandas in a future version. Use pandas.concat instead.\n",
      "  process_manager = process_manager.append(process_list , ignore_index=True)\n"
     ]
    },
    {
     "name": "stdout",
     "output_type": "stream",
     "text": [
      "In the background... 15\n"
     ]
    },
    {
     "name": "stderr",
     "output_type": "stream",
     "text": [
      "C:\\Users\\Faizal Amiruddin\\AppData\\Local\\Temp\\ipykernel_12172\\2339415118.py:20: FutureWarning: The frame.append method is deprecated and will be removed from pandas in a future version. Use pandas.concat instead.\n",
      "  process_manager = process_manager.append(process_list , ignore_index=True)\n"
     ]
    },
    {
     "name": "stdout",
     "output_type": "stream",
     "text": [
      "In the background... 16\n"
     ]
    },
    {
     "name": "stderr",
     "output_type": "stream",
     "text": [
      "C:\\Users\\Faizal Amiruddin\\AppData\\Local\\Temp\\ipykernel_12172\\2339415118.py:20: FutureWarning: The frame.append method is deprecated and will be removed from pandas in a future version. Use pandas.concat instead.\n",
      "  process_manager = process_manager.append(process_list , ignore_index=True)\n"
     ]
    },
    {
     "name": "stdout",
     "output_type": "stream",
     "text": [
      "In the background... 17\n"
     ]
    },
    {
     "name": "stderr",
     "output_type": "stream",
     "text": [
      "C:\\Users\\Faizal Amiruddin\\AppData\\Local\\Temp\\ipykernel_12172\\2339415118.py:20: FutureWarning: The frame.append method is deprecated and will be removed from pandas in a future version. Use pandas.concat instead.\n",
      "  process_manager = process_manager.append(process_list , ignore_index=True)\n"
     ]
    },
    {
     "name": "stdout",
     "output_type": "stream",
     "text": [
      "In the background... 18\n"
     ]
    },
    {
     "name": "stderr",
     "output_type": "stream",
     "text": [
      "C:\\Users\\Faizal Amiruddin\\AppData\\Local\\Temp\\ipykernel_12172\\2339415118.py:20: FutureWarning: The frame.append method is deprecated and will be removed from pandas in a future version. Use pandas.concat instead.\n",
      "  process_manager = process_manager.append(process_list , ignore_index=True)\n"
     ]
    },
    {
     "name": "stdout",
     "output_type": "stream",
     "text": [
      "In the background... 19\n"
     ]
    },
    {
     "name": "stderr",
     "output_type": "stream",
     "text": [
      "C:\\Users\\Faizal Amiruddin\\AppData\\Local\\Temp\\ipykernel_12172\\2339415118.py:20: FutureWarning: The frame.append method is deprecated and will be removed from pandas in a future version. Use pandas.concat instead.\n",
      "  process_manager = process_manager.append(process_list , ignore_index=True)\n"
     ]
    },
    {
     "name": "stdout",
     "output_type": "stream",
     "text": [
      "In the background... 20\n"
     ]
    }
   ],
   "source": [
    "do_process = True\n",
    "#process_manager_list = {}\n",
    "get_all_process([7396])"
   ]
  },
  {
   "cell_type": "code",
   "execution_count": 4,
   "id": "1f370a71",
   "metadata": {},
   "outputs": [
    {
     "name": "stderr",
     "output_type": "stream",
     "text": [
      "C:\\Users\\Faizal Amiruddin\\AppData\\Local\\Temp\\ipykernel_12172\\2339415118.py:20: FutureWarning: The frame.append method is deprecated and will be removed from pandas in a future version. Use pandas.concat instead.\n",
      "  process_manager = process_manager.append(process_list , ignore_index=True)\n"
     ]
    },
    {
     "name": "stdout",
     "output_type": "stream",
     "text": [
      "In the background... 23\n",
      "7396                                      io_counters  memory_percent  \\\n",
      "0  (3215, 2091, 31969299, 5839354, 6938, 109120)        1.283042   \n",
      "1  (3215, 2091, 31969299, 5839354, 6938, 109120)        1.283042   \n",
      "2  (3215, 2091, 31969299, 5839354, 6938, 109120)        1.283042   \n",
      "3  (3215, 2091, 31969299, 5839354, 6938, 109120)        1.283042   \n",
      "4  (3215, 2091, 31969299, 5839354, 6938, 109120)        1.283042   \n",
      "\n",
      "                                         memory_info  cpu_percent  \\\n",
      "0  (150605824, 103251968, 67994, 169897984, 15060...          0.0   \n",
      "1  (150605824, 103251968, 67994, 169897984, 15060...          0.0   \n",
      "2  (150605824, 103251968, 67994, 169897984, 15060...          0.0   \n",
      "3  (150605824, 103251968, 67994, 169897984, 15060...          0.0   \n",
      "4  (150605824, 103251968, 67994, 169897984, 15060...          0.0   \n",
      "\n",
      "                                                 exe   pid          name  \\\n",
      "0  C:\\Users\\Faizal Amiruddin\\AppData\\Local\\insomn...  7396  Insomnia.exe   \n",
      "1  C:\\Users\\Faizal Amiruddin\\AppData\\Local\\insomn...  7396  Insomnia.exe   \n",
      "2  C:\\Users\\Faizal Amiruddin\\AppData\\Local\\insomn...  7396  Insomnia.exe   \n",
      "3  C:\\Users\\Faizal Amiruddin\\AppData\\Local\\insomn...  7396  Insomnia.exe   \n",
      "4  C:\\Users\\Faizal Amiruddin\\AppData\\Local\\insomn...  7396  Insomnia.exe   \n",
      "\n",
      "  connections                   timestamp  \n",
      "0          []  2022-07-23T15:45:23.033436  \n",
      "1          []  2022-07-23T15:45:24.783714  \n",
      "2          []  2022-07-23T15:45:25.802202  \n",
      "3          []  2022-07-23T15:45:26.818678  \n",
      "4          []  2022-07-23T15:45:27.846434  \n",
      "All done!\n"
     ]
    }
   ],
   "source": [
    "do_process = False\n",
    "#for pid in process_manager_list:\n",
    " #   print (process_manager_list[pid])\n",
    "  #  process_manager_list[pid].head()\n",
    "    #process_manager_list[pid].to_csv(str(pid) + '.csv')"
   ]
  },
  {
   "cell_type": "code",
   "execution_count": null,
   "id": "cdd6fbdb",
   "metadata": {},
   "outputs": [],
   "source": []
  }
 ],
 "metadata": {
  "kernelspec": {
   "display_name": "Python 3 (ipykernel)",
   "language": "python",
   "name": "python3"
  },
  "language_info": {
   "codemirror_mode": {
    "name": "ipython",
    "version": 3
   },
   "file_extension": ".py",
   "mimetype": "text/x-python",
   "name": "python",
   "nbconvert_exporter": "python",
   "pygments_lexer": "ipython3",
   "version": "3.10.4"
  }
 },
 "nbformat": 4,
 "nbformat_minor": 5
}

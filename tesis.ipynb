{
 "cells": [
  {
   "cell_type": "code",
   "execution_count": 1,
   "id": "63a6ddd7",
   "metadata": {},
   "outputs": [],
   "source": [
    "#Import Library\n",
    "import psutil\n",
    "import pandas as pd\n",
    "import sched, time\n",
    "from datetime import datetime\n",
    "from IPython.lib import backgroundjobs as bg"
   ]
  },
  {
   "cell_type": "code",
   "execution_count": 2,
   "id": "06953f27",
   "metadata": {},
   "outputs": [],
   "source": [
    "do_process = True\n",
    "jobs = bg.BackgroundJobManager()\n",
    "def get_all_process(process = []):    \n",
    "    for pid in process:\n",
    "        def get_data(interval=1, process_pid=pid):\n",
    "            process_manager = pd.DataFrame()\n",
    "            n = 1\n",
    "            global do_process\n",
    "            while do_process:\n",
    "                print (process_pid)\n",
    "                time.sleep(interval)\n",
    "                p = psutil.Process(process_pid)\n",
    "                process_list = p.as_dict(attrs=\n",
    "                                     ['pid', 'name', 'connections', 'cpu_percent', 'memory_info', \n",
    "                                      'memory_percent', 'io_counters', 'exe'])\n",
    "                process_list ['timestamp'] = datetime.now().isoformat()\n",
    "                process_list ['net_io_counter'] = psutil.net_io_counters()\n",
    "                process_manager = process_manager.append(process_list , ignore_index=True)\n",
    "                print('In the background... %i' % n)\n",
    "                n += 1\n",
    "            print('All done!')\n",
    "            process_manager.to_csv( 'export/' + str(process_pid) + '.csv')\n",
    "            print (\"Export Success\")\n",
    "            \n",
    "        #get_data(1,10)\n",
    "        global jobs\n",
    "        jobs.new(get_data, 1, pid) \n",
    "        jobs.status()"
   ]
  },
  {
   "cell_type": "code",
   "execution_count": 11,
   "id": "e5fd0451",
   "metadata": {},
   "outputs": [
    {
     "name": "stdout",
     "output_type": "stream",
     "text": [
      "8308\n",
      "Running jobs:\n",
      "0 : <function get_all_process.<locals>.get_data at 0x000001C3E78C0C10>\n",
      "\n",
      "6180Running jobs:\n",
      "0 : <function get_all_process.<locals>.get_data at 0x000001C3E78C0C10>\n",
      "1 : <function get_all_process.<locals>.get_data at 0x000001C3E78C1240>\n",
      "\n",
      "\n",
      "In the background... 1In the background... 1\n",
      "8308\n",
      "\n",
      "6180\n",
      "In the background... 2\n",
      "6180\n",
      "In the background... 2\n",
      "8308\n",
      "In the background... 3In the background... 3\n",
      "6180\n",
      "\n",
      "8308\n",
      "In the background... 4In the background... 4\n",
      "6180\n",
      "\n",
      "8308\n",
      "In the background... 5In the background... 5\n",
      "\n",
      "6180\n",
      "8308\n",
      "In the background... 6In the background... 6\n",
      "6180\n",
      "8308\n",
      "\n"
     ]
    }
   ],
   "source": [
    "#get_all_process([8340,8864,8804,9712,5396,3984,2096])\n",
    "get_all_process([11444,7056])"
   ]
  },
  {
   "cell_type": "code",
   "execution_count": 12,
   "id": "bdcdc021",
   "metadata": {},
   "outputs": [
    {
     "name": "stdout",
     "output_type": "stream",
     "text": [
      "In the background... 7In the background... 7\n",
      "\n",
      "6180\n",
      "8308\n",
      "In the background... 8\n",
      "All done!\n",
      "In the background... 8\n",
      "All done!\n",
      "Export Success\n",
      "Export Success\n"
     ]
    }
   ],
   "source": [
    "do_process = False"
   ]
  },
  {
   "cell_type": "code",
   "execution_count": null,
   "id": "cf460282",
   "metadata": {},
   "outputs": [],
   "source": []
  }
 ],
 "metadata": {
  "kernelspec": {
   "display_name": "Python 3 (ipykernel)",
   "language": "python",
   "name": "python3"
  },
  "language_info": {
   "codemirror_mode": {
    "name": "ipython",
    "version": 3
   },
   "file_extension": ".py",
   "mimetype": "text/x-python",
   "name": "python",
   "nbconvert_exporter": "python",
   "pygments_lexer": "ipython3",
   "version": "3.10.0"
  }
 },
 "nbformat": 4,
 "nbformat_minor": 5
}

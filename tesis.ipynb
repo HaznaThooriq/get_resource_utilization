{
 "cells": [
  {
   "cell_type": "code",
   "execution_count": 7,
   "id": "0955708d",
   "metadata": {},
   "outputs": [],
   "source": [
    "#Import Library\n",
    "import psutil\n",
    "import pandas as pd\n",
    "import sched, time\n",
    "from datetime import datetime\n",
    "from IPython.lib import backgroundjobs as bg\n",
    "#import win32com.client"
   ]
  },
  {
   "cell_type": "code",
   "execution_count": 22,
   "id": "00c43d60",
   "metadata": {},
   "outputs": [],
   "source": [
    "do_process = True\n",
    "jobs = bg.BackgroundJobManager()\n",
    "def get_all_process(process = []):    \n",
    "    for pid in process:\n",
    "        def get_data(interval=1, process_pid=pid):\n",
    "            process_manager = pd.DataFrame()\n",
    "            n = 1\n",
    "            global do_process\n",
    "            while do_process:\n",
    "                print (process_pid)\n",
    "                time.sleep(interval)\n",
    "                p = psutil.Process(process_pid)\n",
    "                process_list = p.as_dict(attrs=\n",
    "                                     ['pid', 'name', 'connections', 'cpu_percent', 'memory_info', \n",
    "                                      'memory_percent', 'io_counters', 'exe'])\n",
    "                process_list ['timestamp'] = datetime.now().isoformat()\n",
    "                process_list ['wset'] = process_list['memory_info'][4]\n",
    "                process_list ['port'] = process_list['connections'][3]\n",
    "                process_manager = process_manager.append(process_list , ignore_index=True)\n",
    "                print('In the background... %i' % n)\n",
    "                n += 1\n",
    "            print('All done!')\n",
    "            process_manager.to_csv( 'export/' + str(process_pid) + '.csv')\n",
    "            print (\"Export Success\")\n",
    "            \n",
    "        #get_data(1 , pid)\n",
    "        global jobs\n",
    "        jobs.new(get_data, 1, pid) \n",
    "        jobs.status()"
   ]
  },
  {
   "cell_type": "code",
   "execution_count": 23,
   "id": "69f80044",
   "metadata": {},
   "outputs": [
    {
     "name": "stdout",
     "output_type": "stream",
     "text": [
      "6644\n",
      "Running jobs:\n",
      "0 : <function get_all_process.<locals>.get_data at 0x000002E04D1F9120>\n",
      "\n",
      "In the background... 1\n",
      "6644\n",
      "In the background... 2\n",
      "6644\n",
      "In the background... 3\n",
      "6644\n"
     ]
    }
   ],
   "source": [
    "#get_all_process([8340,8864,8804,9712,5396,3984,2096])\n",
    "get_all_process([6644])"
   ]
  },
  {
   "cell_type": "code",
   "execution_count": 24,
   "id": "4aa75a41",
   "metadata": {},
   "outputs": [
    {
     "name": "stdout",
     "output_type": "stream",
     "text": [
      "In the background... 4\n",
      "All done!\n",
      "Export Success\n"
     ]
    }
   ],
   "source": [
    "do_process = False"
   ]
  },
  {
   "cell_type": "code",
   "execution_count": 11,
   "id": "9a228edc",
   "metadata": {},
   "outputs": [
    {
     "data": {
      "text/plain": [
       "{'Wi-Fi': [snicaddr(family=<AddressFamily.AF_LINK: -1>, address='00-E0-4C-81-89-0E', netmask=None, broadcast=None, ptp=None),\n",
       "  snicaddr(family=<AddressFamily.AF_INET: 2>, address='169.254.66.174', netmask='255.255.0.0', broadcast=None, ptp=None),\n",
       "  snicaddr(family=<AddressFamily.AF_INET6: 23>, address='fe80::351a:68db:edef:42ae', netmask=None, broadcast=None, ptp=None)],\n",
       " 'Local Area Connection* 9': [snicaddr(family=<AddressFamily.AF_LINK: -1>, address='02-E0-4C-81-89-0E', netmask=None, broadcast=None, ptp=None),\n",
       "  snicaddr(family=<AddressFamily.AF_INET: 2>, address='169.254.96.219', netmask='255.255.0.0', broadcast=None, ptp=None),\n",
       "  snicaddr(family=<AddressFamily.AF_INET6: 23>, address='fe80::9572:2449:de82:60db', netmask=None, broadcast=None, ptp=None)],\n",
       " 'Local Area Connection* 10': [snicaddr(family=<AddressFamily.AF_LINK: -1>, address='00-E0-4C-81-89-0E', netmask=None, broadcast=None, ptp=None),\n",
       "  snicaddr(family=<AddressFamily.AF_INET: 2>, address='169.254.219.60', netmask='255.255.0.0', broadcast=None, ptp=None),\n",
       "  snicaddr(family=<AddressFamily.AF_INET6: 23>, address='fe80::3850:7928:dfc6:db3c', netmask=None, broadcast=None, ptp=None)],\n",
       " 'Ethernet': [snicaddr(family=<AddressFamily.AF_LINK: -1>, address='74-D4-35-8D-F2-67', netmask=None, broadcast=None, ptp=None),\n",
       "  snicaddr(family=<AddressFamily.AF_INET: 2>, address='192.168.100.19', netmask='255.255.255.0', broadcast=None, ptp=None),\n",
       "  snicaddr(family=<AddressFamily.AF_INET6: 23>, address='2001:448a:50e0:e5a5:1809:dddf:c537:dd67', netmask=None, broadcast=None, ptp=None),\n",
       "  snicaddr(family=<AddressFamily.AF_INET6: 23>, address='2001:448a:50e0:e5a5:1d92:a8a4:4fae:3e95', netmask=None, broadcast=None, ptp=None),\n",
       "  snicaddr(family=<AddressFamily.AF_INET6: 23>, address='fe80::1809:dddf:c537:dd67', netmask=None, broadcast=None, ptp=None)],\n",
       " 'Ethernet 3': [snicaddr(family=<AddressFamily.AF_LINK: -1>, address='00-FF-35-59-21-EC', netmask=None, broadcast=None, ptp=None),\n",
       "  snicaddr(family=<AddressFamily.AF_INET: 2>, address='169.254.41.10', netmask='255.255.0.0', broadcast=None, ptp=None),\n",
       "  snicaddr(family=<AddressFamily.AF_INET6: 23>, address='fe80::55a5:6671:7bc4:290a', netmask=None, broadcast=None, ptp=None)],\n",
       " 'vEthernet (Default Switch)': [snicaddr(family=<AddressFamily.AF_LINK: -1>, address='00-15-5D-BB-C3-A4', netmask=None, broadcast=None, ptp=None),\n",
       "  snicaddr(family=<AddressFamily.AF_INET: 2>, address='172.21.32.1', netmask='255.255.240.0', broadcast=None, ptp=None),\n",
       "  snicaddr(family=<AddressFamily.AF_INET6: 23>, address='fe80::d169:13d8:4f76:6ef0', netmask=None, broadcast=None, ptp=None)],\n",
       " 'Loopback Pseudo-Interface 1': [snicaddr(family=<AddressFamily.AF_INET: 2>, address='127.0.0.1', netmask='255.0.0.0', broadcast=None, ptp=None),\n",
       "  snicaddr(family=<AddressFamily.AF_INET6: 23>, address='::1', netmask=None, broadcast=None, ptp=None)]}"
      ]
     },
     "execution_count": 11,
     "metadata": {},
     "output_type": "execute_result"
    }
   ],
   "source": [
    "psutil.net_if_addrs()"
   ]
  },
  {
   "cell_type": "code",
   "execution_count": null,
   "id": "ee0c7bf3",
   "metadata": {},
   "outputs": [],
   "source": []
  }
 ],
 "metadata": {
  "kernelspec": {
   "display_name": "Python 3 (ipykernel)",
   "language": "python",
   "name": "python3"
  },
  "language_info": {
   "codemirror_mode": {
    "name": "ipython",
    "version": 3
   },
   "file_extension": ".py",
   "mimetype": "text/x-python",
   "name": "python",
   "nbconvert_exporter": "python",
   "pygments_lexer": "ipython3",
   "version": "3.10.0"
  }
 },
 "nbformat": 4,
 "nbformat_minor": 5
}

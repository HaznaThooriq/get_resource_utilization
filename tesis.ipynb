{
 "cells": [
  {
   "cell_type": "code",
   "execution_count": 39,
   "id": "2f64fbc8",
   "metadata": {},
   "outputs": [],
   "source": [
    "#Import Library\n",
    "import psutil\n",
    "import pandas as pd\n",
    "import sched, time\n",
    "from datetime import datetime\n",
    "from IPython.lib import backgroundjobs as bg"
   ]
  },
  {
   "cell_type": "code",
   "execution_count": 40,
   "id": "54232a29",
   "metadata": {},
   "outputs": [],
   "source": [
    "jobs = bg.BackgroundJobManager()\n",
    "def get_all_process(process = []):    \n",
    "    for pid in process:\n",
    "        def get_data(interval=1, reps=5, process_pid=pid):\n",
    "            process_manager = pd.DataFrame()\n",
    "            for n in range(reps):\n",
    "                print (process_pid)\n",
    "                time.sleep(interval)\n",
    "                p = psutil.Process(process_pid)\n",
    "                process_list = p.as_dict(attrs=\n",
    "                                     ['pid', 'name', 'connections', 'cpu_percent', 'memory_info', \n",
    "                                      'memory_percent', 'io_counters', 'exe'])\n",
    "                process_list ['timestamp'] = datetime.now().isoformat()\n",
    "                process_manager = process_manager.append(process_list , ignore_index=True)\n",
    "                print('In the background... %i' % n)\n",
    "            print('All done!')\n",
    "            process_manager.to_csv( 'export/' + str(process_pid) + '.csv')\n",
    "            print (\"Export Success\")\n",
    "        #get_data(1,10)\n",
    "        global jobs\n",
    "        jobs.new(get_data, 1, 10, pid) \n",
    "        jobs.status()"
   ]
  },
  {
   "cell_type": "code",
   "execution_count": 41,
   "id": "7cdd8fe6",
   "metadata": {},
   "outputs": [
    {
     "name": "stdout",
     "output_type": "stream",
     "text": [
      "788\n",
      "Running jobs:\n",
      "0 : <function get_all_process.<locals>.get_data at 0x0000023FB8116710>\n",
      "\n",
      "832Running jobs:\n",
      "\n",
      "0 : <function get_all_process.<locals>.get_data at 0x0000023FB8116710>\n",
      "1 : <function get_all_process.<locals>.get_data at 0x0000023FB8117910>\n",
      "\n",
      "In the background... 0\n",
      "788In the background... 0\n",
      "\n",
      "832\n",
      "In the background... 1\n",
      "832\n",
      "In the background... 1\n",
      "788\n",
      "In the background... 2\n",
      "832\n",
      "In the background... 2\n",
      "788\n",
      "In the background... 3\n",
      "832\n",
      "In the background... 3\n",
      "788\n",
      "In the background... 4\n",
      "832In the background... 4\n",
      "\n",
      "788\n",
      "In the background... 5In the background... 5\n",
      "832\n",
      "\n",
      "788\n",
      "In the background... 6In the background... 6\n",
      "788\n",
      "\n",
      "832\n",
      "In the background... 7In the background... 7\n",
      "788\n",
      "\n",
      "832\n",
      "In the background... 8\n",
      "832In the background... 8\n",
      "\n",
      "788\n",
      "In the background... 9In the background... 9\n",
      "\n",
      "All done!\n",
      "All done!\n",
      "Export Success\n",
      "Export Success\n"
     ]
    }
   ],
   "source": [
    "get_all_process([788,832])"
   ]
  },
  {
   "cell_type": "code",
   "execution_count": null,
   "id": "e7a2a5ec",
   "metadata": {},
   "outputs": [],
   "source": []
  }
 ],
 "metadata": {
  "kernelspec": {
   "display_name": "Python 3 (ipykernel)",
   "language": "python",
   "name": "python3"
  },
  "language_info": {
   "codemirror_mode": {
    "name": "ipython",
    "version": 3
   },
   "file_extension": ".py",
   "mimetype": "text/x-python",
   "name": "python",
   "nbconvert_exporter": "python",
   "pygments_lexer": "ipython3",
   "version": "3.10.0"
  }
 },
 "nbformat": 4,
 "nbformat_minor": 5
}

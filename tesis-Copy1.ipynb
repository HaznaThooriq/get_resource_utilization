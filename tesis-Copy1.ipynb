{
 "cells": [
  {
   "cell_type": "code",
   "execution_count": 39,
   "id": "f39de4ad",
   "metadata": {},
   "outputs": [],
   "source": [
    "#Import Library\n",
    "import psutil\n",
    "import pandas as pd\n",
    "import sched, time\n",
    "from datetime import datetime\n",
    "from IPython.lib import backgroundjobs as bg\n",
    "#import win32com.client"
   ]
  },
  {
   "cell_type": "code",
   "execution_count": 46,
   "id": "e2349cd6",
   "metadata": {},
   "outputs": [],
   "source": [
    "do_process = True\n",
    "jobs = bg.BackgroundJobManager()\n",
    "def get_all_process(process = []):    \n",
    "    for pid in process:\n",
    "        def get_data(interval=1, process_pid=pid):\n",
    "            process_manager = pd.DataFrame()\n",
    "            n = 1\n",
    "            global do_process\n",
    "            while do_process:\n",
    "                print (process_pid)\n",
    "                time.sleep(interval)\n",
    "                p = psutil.Process(process_pid)\n",
    "                #process_list = p.as_dict\n",
    "                #(attrs= ['pid', 'name', 'cpu_affinity', 'cpu_num', 'cpu_percent', 'cpu_times'])\n",
    "                process_list = p.as_dict(attrs=\n",
    "                                     ['pid', 'name', 'cpu_percent'])\n",
    "                #process_list = p.as_dict(attrs=\n",
    "                #                     ['pid', 'name', 'cpu_percent', 'cpu_affinity', 'cpu_num', 'cpu_percent', 'cpu_times'])\n",
    "                process_list ['timestamp'] = datetime.now().isoformat()\n",
    "                process_list ['wset'] = process_list['memory_info'][4]\n",
    "                process_manager = process_manager.append(process_list , ignore_index=True)\n",
    "                print('In the background... %i' % n)\n",
    "                n += 1\n",
    "            print('All done!')\n",
    "            process_manager.to_csv( 'export/' + str(process_pid) + '.csv')\n",
    "            print (\"Export Success\")\n",
    "            \n",
    "        #get_data(1 , pid)\n",
    "        global jobs\n",
    "        jobs.new(get_data, 1, pid) \n",
    "        jobs.status()"
   ]
  },
  {
   "cell_type": "code",
   "execution_count": 47,
   "id": "e2a8a99a",
   "metadata": {},
   "outputs": [
    {
     "name": "stdout",
     "output_type": "stream",
     "text": [
      "6464Running jobs:\n",
      "0 : <function get_all_process.<locals>.get_data at 0x000001EF47AB8670>\n",
      "\n",
      "\n",
      "11340\n",
      "Running jobs:\n",
      "0 : <function get_all_process.<locals>.get_data at 0x000001EF47AB8670>\n",
      "1 : <function get_all_process.<locals>.get_data at 0x000001EF47ABBE20>\n",
      "\n",
      "7280\n",
      "Running jobs:\n",
      "0 : <function get_all_process.<locals>.get_data at 0x000001EF47AB8670>\n",
      "1 : <function get_all_process.<locals>.get_data at 0x000001EF47ABBE20>\n",
      "2 : <function get_all_process.<locals>.get_data at 0x000001EF47AB97E0>\n",
      "\n",
      "5188\n",
      "Running jobs:\n",
      "0 : <function get_all_process.<locals>.get_data at 0x000001EF47AB8670>\n",
      "1 : <function get_all_process.<locals>.get_data at 0x000001EF47ABBE20>\n",
      "2 : <function get_all_process.<locals>.get_data at 0x000001EF47AB97E0>\n",
      "3 : <function get_all_process.<locals>.get_data at 0x000001EF47AB9E10>\n",
      "\n",
      "6820\n",
      "Running jobs:\n",
      "0 : <function get_all_process.<locals>.get_data at 0x000001EF47AB8670>\n",
      "1 : <function get_all_process.<locals>.get_data at 0x000001EF47ABBE20>\n",
      "2 : <function get_all_process.<locals>.get_data at 0x000001EF47AB97E0>\n",
      "3 : <function get_all_process.<locals>.get_data at 0x000001EF47AB9E10>\n",
      "4 : <function get_all_process.<locals>.get_data at 0x000001EF47AB9990>\n",
      "\n",
      "4564\n",
      "Running jobs:\n",
      "0 : <function get_all_process.<locals>.get_data at 0x000001EF47AB8670>\n",
      "1 : <function get_all_process.<locals>.get_data at 0x000001EF47ABBE20>\n",
      "2 : <function get_all_process.<locals>.get_data at 0x000001EF47AB97E0>\n",
      "3 : <function get_all_process.<locals>.get_data at 0x000001EF47AB9E10>\n",
      "4 : <function get_all_process.<locals>.get_data at 0x000001EF47AB9990>\n",
      "5 : <function get_all_process.<locals>.get_data at 0x000001EF47AB8790>\n",
      "\n",
      "2456\n",
      "Running jobs:\n",
      "0 : <function get_all_process.<locals>.get_data at 0x000001EF47AB8670>\n",
      "1 : <function get_all_process.<locals>.get_data at 0x000001EF47ABBE20>\n",
      "2 : <function get_all_process.<locals>.get_data at 0x000001EF47AB97E0>\n",
      "3 : <function get_all_process.<locals>.get_data at 0x000001EF47AB9E10>\n",
      "4 : <function get_all_process.<locals>.get_data at 0x000001EF47AB9990>\n",
      "5 : <function get_all_process.<locals>.get_data at 0x000001EF47AB8790>\n",
      "6 : <function get_all_process.<locals>.get_data at 0x000001EF47AB9FC0>\n",
      "\n"
     ]
    }
   ],
   "source": [
    "#get_all_process([8340,8864,8804,9712,5396,3984,2096])\n",
    "get_all_process([6464,11340,7280,5188,6820,4564,2456])\n",
    "#get_all_process([11340])"
   ]
  },
  {
   "cell_type": "code",
   "execution_count": 48,
   "id": "4a125d3f",
   "metadata": {},
   "outputs": [],
   "source": [
    "do_process = False"
   ]
  },
  {
   "cell_type": "code",
   "execution_count": 21,
   "id": "f3d0d4fb",
   "metadata": {},
   "outputs": [
    {
     "data": {
      "text/plain": [
       "{'Ethernet': [snicaddr(family=<AddressFamily.AF_LINK: -1>, address='48-BA-4E-88-35-6D', netmask=None, broadcast=None, ptp=None),\n",
       "  snicaddr(family=<AddressFamily.AF_INET: 2>, address='169.254.212.225', netmask='255.255.0.0', broadcast=None, ptp=None),\n",
       "  snicaddr(family=<AddressFamily.AF_INET6: 23>, address='fe80::8de0:222e:cf4b:d4e1', netmask=None, broadcast=None, ptp=None)],\n",
       " 'Local Area Connection* 1': [snicaddr(family=<AddressFamily.AF_LINK: -1>, address='88-B1-11-42-8F-0C', netmask=None, broadcast=None, ptp=None),\n",
       "  snicaddr(family=<AddressFamily.AF_INET: 2>, address='169.254.169.96', netmask='255.255.0.0', broadcast=None, ptp=None),\n",
       "  snicaddr(family=<AddressFamily.AF_INET6: 23>, address='fe80::3094:1655:5a3d:a960', netmask=None, broadcast=None, ptp=None)],\n",
       " 'Local Area Connection* 2': [snicaddr(family=<AddressFamily.AF_LINK: -1>, address='8A-B1-11-42-8F-0B', netmask=None, broadcast=None, ptp=None),\n",
       "  snicaddr(family=<AddressFamily.AF_INET: 2>, address='169.254.163.189', netmask='255.255.0.0', broadcast=None, ptp=None),\n",
       "  snicaddr(family=<AddressFamily.AF_INET6: 23>, address='fe80::1d27:fdbf:cf24:a3bd', netmask=None, broadcast=None, ptp=None)],\n",
       " 'Ethernet 2': [snicaddr(family=<AddressFamily.AF_LINK: -1>, address='00-FF-88-DE-00-EA', netmask=None, broadcast=None, ptp=None),\n",
       "  snicaddr(family=<AddressFamily.AF_INET: 2>, address='10.80.250.77', netmask='255.255.255.0', broadcast=None, ptp=None),\n",
       "  snicaddr(family=<AddressFamily.AF_INET: 2>, address='169.254.165.17', netmask='255.255.0.0', broadcast=None, ptp=None),\n",
       "  snicaddr(family=<AddressFamily.AF_INET6: 23>, address='fe80::e463:9286:b2da:a511', netmask=None, broadcast=None, ptp=None)],\n",
       " 'Wi-Fi': [snicaddr(family=<AddressFamily.AF_LINK: -1>, address='88-B1-11-42-8F-0B', netmask=None, broadcast=None, ptp=None),\n",
       "  snicaddr(family=<AddressFamily.AF_INET: 2>, address='192.168.100.164', netmask='255.255.255.0', broadcast=None, ptp=None)],\n",
       " 'Bluetooth Network Connection': [snicaddr(family=<AddressFamily.AF_LINK: -1>, address='88-B1-11-42-8F-0F', netmask=None, broadcast=None, ptp=None),\n",
       "  snicaddr(family=<AddressFamily.AF_INET: 2>, address='169.254.133.240', netmask='255.255.0.0', broadcast=None, ptp=None),\n",
       "  snicaddr(family=<AddressFamily.AF_INET6: 23>, address='fe80::5ddb:60e4:200f:85f0', netmask=None, broadcast=None, ptp=None)],\n",
       " 'Loopback Pseudo-Interface 1': [snicaddr(family=<AddressFamily.AF_INET: 2>, address='127.0.0.1', netmask='255.0.0.0', broadcast=None, ptp=None),\n",
       "  snicaddr(family=<AddressFamily.AF_INET6: 23>, address='::1', netmask=None, broadcast=None, ptp=None)]}"
      ]
     },
     "execution_count": 21,
     "metadata": {},
     "output_type": "execute_result"
    }
   ],
   "source": [
    "psutil.net_if_addrs()"
   ]
  },
  {
   "cell_type": "code",
   "execution_count": null,
   "id": "ea03496b",
   "metadata": {},
   "outputs": [],
   "source": []
  }
 ],
 "metadata": {
  "kernelspec": {
   "display_name": "Python 3 (ipykernel)",
   "language": "python",
   "name": "python3"
  },
  "language_info": {
   "codemirror_mode": {
    "name": "ipython",
    "version": 3
   },
   "file_extension": ".py",
   "mimetype": "text/x-python",
   "name": "python",
   "nbconvert_exporter": "python",
   "pygments_lexer": "ipython3",
   "version": "3.10.4"
  }
 },
 "nbformat": 4,
 "nbformat_minor": 5
}

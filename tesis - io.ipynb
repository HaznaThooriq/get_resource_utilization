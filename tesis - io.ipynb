{
 "cells": [
  {
   "cell_type": "code",
   "execution_count": 1,
   "id": "f39de4ad",
   "metadata": {},
   "outputs": [],
   "source": [
    "#Import Library\n",
    "import psutil\n",
    "import pandas as pd\n",
    "import sched, time\n",
    "from datetime import datetime\n",
    "from IPython.lib import backgroundjobs as bg\n",
    "#import win32com.client"
   ]
  },
  {
   "cell_type": "code",
   "execution_count": 16,
   "id": "e2349cd6",
   "metadata": {},
   "outputs": [],
   "source": [
    "do_process = True\n",
    "jobs = bg.BackgroundJobManager()\n",
    "def get_all_process(process = []):    \n",
    "    for pid in process:\n",
    "        def get_data(interval=1, process_pid=pid):\n",
    "            process_manager = pd.DataFrame()\n",
    "            n = 1\n",
    "            global do_process\n",
    "            while do_process:\n",
    "                print (process_pid)\n",
    "                time.sleep(interval)\n",
    "                p = psutil.Process(process_pid)\n",
    "                process_list = p.as_dict(attrs=\n",
    "                                     ['pid', 'name', 'cpu_percent', 'memory_info', \n",
    "                                      'memory_percent', 'io_counters', 'exe'])\n",
    "                \n",
    "                #storage-util\n",
    "                io_counters = process_list ['io_counters']\n",
    "                disk_io_counter = psutil.disk_io_counters()\n",
    "                disk_usage_process = io_counters[2] + io_counters[3] # read_bytes + write_bytes\n",
    "                disk_total = disk_io_counter[2] + disk_io_counter[3] # read_bytes + write_bytes\n",
    "                process_list ['disk_usage_process'] = str(disk_usage_process)\n",
    "                process_list ['disk_total'] = str(disk_total)\n",
    "                #process_list ['disk_io_read_bytes'] = str(disk_io_counter[2])\n",
    "                #process_list ['disk_io_write_bytes'] = str(disk_io_counter[3])\n",
    "                #process_list ['io_read_bytes'] = str(io_counters[2])\n",
    "                #process_list ['io_write_bytes'] = str(io_countes[3])\n",
    "                process_list ['storage_util'] = disk_usage_process/disk_total\n",
    "                \n",
    "                \n",
    "                #io-util\n",
    "                io_usage_process = io_counters[0] + io_counters[1] # read_count + write_count\n",
    "                io_total = disk_io_counter[0] + disk_io_counter[1] # read_count + write_count\n",
    "                #print(\"Disk\", disk_usage_process/disk_total * 100)\n",
    "                process_list ['io_util'] = io_usage_process/io_total\n",
    "                \n",
    "                \n",
    "                process_list ['disk_io_counter'] = str(disk_io_counter)\n",
    "                \n",
    "                \n",
    "                process_list ['timestamp'] = datetime.now().isoformat()\n",
    "                #process_list ['wset'] = process_list['memory_info'][4]\n",
    "                #process_list ['port'] = process_list['connections'][0][3][1]\n",
    "                process_manager = process_manager.append(process_list , ignore_index=True)\n",
    "                print('In the background... %i' % n)\n",
    "                n += 1\n",
    "            print('All done!')\n",
    "            process_manager.to_csv( 'export/' + str(process_pid) + '.csv')\n",
    "            print (\"Export Success\")\n",
    "            \n",
    "        #get_data(1 , pid)\n",
    "        global jobs\n",
    "        jobs.new(get_data, 1, pid) \n",
    "        jobs.status()"
   ]
  },
  {
   "cell_type": "code",
   "execution_count": 17,
   "id": "e2a8a99a",
   "metadata": {},
   "outputs": [
    {
     "name": "stdout",
     "output_type": "stream",
     "text": [
      "10112Running jobs:\n",
      "0 : <function get_all_process.<locals>.get_data at 0x00000192C2989630>\n",
      "\n",
      "\n",
      "Running jobs:\n",
      "0 : <function get_all_process.<locals>.get_data at 0x00000192C2989630>\n",
      "1 : <function get_all_process.<locals>.get_data at 0x00000192C298BF40>\n",
      "\n",
      "6304\n",
      "Running jobs:\n",
      "0 : <function get_all_process.<locals>.get_data at 0x00000192C2989630>\n",
      "1 : <function get_all_process.<locals>.get_data at 0x00000192C298BF40>\n",
      "2 : <function get_all_process.<locals>.get_data at 0x00000192C298B0A0>\n",
      "\n",
      "10236\n",
      "Running jobs:\n",
      "0 : <function get_all_process.<locals>.get_data at 0x00000192C2989630>\n",
      "1 : <function get_all_process.<locals>.get_data at 0x00000192C298BF40>\n",
      "2 : <function get_all_process.<locals>.get_data at 0x00000192C298B0A0>\n",
      "3 : <function get_all_process.<locals>.get_data at 0x00000192C29CCA60>\n",
      "\n",
      "8080\n",
      "10864\n",
      "Running jobs:\n",
      "0 : <function get_all_process.<locals>.get_data at 0x00000192C2989630>\n",
      "1 : <function get_all_process.<locals>.get_data at 0x00000192C298BF40>\n",
      "2 : <function get_all_process.<locals>.get_data at 0x00000192C298B0A0>\n",
      "3 : <function get_all_process.<locals>.get_data at 0x00000192C29CCA60>\n",
      "4 : <function get_all_process.<locals>.get_data at 0x00000192C29CDBD0>\n",
      "\n"
     ]
    },
    {
     "name": "stderr",
     "output_type": "stream",
     "text": [
      "C:\\Users\\Faizal Amiruddin\\AppData\\Local\\Temp\\ipykernel_6452\\3920077794.py:44: FutureWarning: The frame.append method is deprecated and will be removed from pandas in a future version. Use pandas.concat instead.\n",
      "  process_manager = process_manager.append(process_list , ignore_index=True)\n",
      "C:\\Users\\Faizal Amiruddin\\AppData\\Local\\Temp\\ipykernel_6452\\3920077794.py:44: FutureWarning: The frame.append method is deprecated and will be removed from pandas in a future version. Use pandas.concat instead.\n",
      "  process_manager = process_manager.append(process_list , ignore_index=True)\n",
      "C:\\Users\\Faizal Amiruddin\\AppData\\Local\\Temp\\ipykernel_6452\\3920077794.py:44: FutureWarning: The frame.append method is deprecated and will be removed from pandas in a future version. Use pandas.concat instead.\n",
      "  process_manager = process_manager.append(process_list , ignore_index=True)\n",
      "C:\\Users\\Faizal Amiruddin\\AppData\\Local\\Temp\\ipykernel_6452\\3920077794.py:44: FutureWarning: The frame.append method is deprecated and will be removed from pandas in a future version. Use pandas.concat instead.\n",
      "  process_manager = process_manager.append(process_list , ignore_index=True)\n",
      "C:\\Users\\Faizal Amiruddin\\AppData\\Local\\Temp\\ipykernel_6452\\3920077794.py:44: FutureWarning: The frame.append method is deprecated and will be removed from pandas in a future version. Use pandas.concat instead.\n",
      "  process_manager = process_manager.append(process_list , ignore_index=True)\n"
     ]
    },
    {
     "name": "stdout",
     "output_type": "stream",
     "text": [
      "In the background... 1\n",
      "10112\n",
      "In the background... 1\n",
      "6304\n",
      "In the background... 1\n",
      "10864\n",
      "In the background... 1\n",
      "10236\n",
      "In the background... 1\n",
      "8080\n"
     ]
    },
    {
     "name": "stderr",
     "output_type": "stream",
     "text": [
      "C:\\Users\\Faizal Amiruddin\\AppData\\Local\\Temp\\ipykernel_6452\\3920077794.py:44: FutureWarning: The frame.append method is deprecated and will be removed from pandas in a future version. Use pandas.concat instead.\n",
      "  process_manager = process_manager.append(process_list , ignore_index=True)\n",
      "C:\\Users\\Faizal Amiruddin\\AppData\\Local\\Temp\\ipykernel_6452\\3920077794.py:44: FutureWarning: The frame.append method is deprecated and will be removed from pandas in a future version. Use pandas.concat instead.\n",
      "  process_manager = process_manager.append(process_list , ignore_index=True)\n",
      "C:\\Users\\Faizal Amiruddin\\AppData\\Local\\Temp\\ipykernel_6452\\3920077794.py:44: FutureWarning: The frame.append method is deprecated and will be removed from pandas in a future version. Use pandas.concat instead.\n",
      "  process_manager = process_manager.append(process_list , ignore_index=True)\n"
     ]
    },
    {
     "name": "stdout",
     "output_type": "stream",
     "text": [
      "In the background... 2\n",
      "10112\n",
      "In the background... 2\n",
      "10864\n",
      "In the background... 2\n",
      "8080\n"
     ]
    },
    {
     "name": "stderr",
     "output_type": "stream",
     "text": [
      "C:\\Users\\Faizal Amiruddin\\AppData\\Local\\Temp\\ipykernel_6452\\3920077794.py:44: FutureWarning: The frame.append method is deprecated and will be removed from pandas in a future version. Use pandas.concat instead.\n",
      "  process_manager = process_manager.append(process_list , ignore_index=True)\n",
      "C:\\Users\\Faizal Amiruddin\\AppData\\Local\\Temp\\ipykernel_6452\\3920077794.py:44: FutureWarning: The frame.append method is deprecated and will be removed from pandas in a future version. Use pandas.concat instead.\n",
      "  process_manager = process_manager.append(process_list , ignore_index=True)\n"
     ]
    },
    {
     "name": "stdout",
     "output_type": "stream",
     "text": [
      "In the background... 2\n",
      "6304\n",
      "In the background... 2\n",
      "10236\n"
     ]
    },
    {
     "name": "stderr",
     "output_type": "stream",
     "text": [
      "C:\\Users\\Faizal Amiruddin\\AppData\\Local\\Temp\\ipykernel_6452\\3920077794.py:44: FutureWarning: The frame.append method is deprecated and will be removed from pandas in a future version. Use pandas.concat instead.\n",
      "  process_manager = process_manager.append(process_list , ignore_index=True)\n",
      "C:\\Users\\Faizal Amiruddin\\AppData\\Local\\Temp\\ipykernel_6452\\3920077794.py:44: FutureWarning: The frame.append method is deprecated and will be removed from pandas in a future version. Use pandas.concat instead.\n",
      "  process_manager = process_manager.append(process_list , ignore_index=True)\n"
     ]
    },
    {
     "name": "stdout",
     "output_type": "stream",
     "text": [
      "In the background... 3\n",
      "10112\n",
      "In the background... 3\n",
      "8080\n",
      "In the background... 3\n",
      "10864\n"
     ]
    },
    {
     "name": "stderr",
     "output_type": "stream",
     "text": [
      "C:\\Users\\Faizal Amiruddin\\AppData\\Local\\Temp\\ipykernel_6452\\3920077794.py:44: FutureWarning: The frame.append method is deprecated and will be removed from pandas in a future version. Use pandas.concat instead.\n",
      "  process_manager = process_manager.append(process_list , ignore_index=True)\n",
      "C:\\Users\\Faizal Amiruddin\\AppData\\Local\\Temp\\ipykernel_6452\\3920077794.py:44: FutureWarning: The frame.append method is deprecated and will be removed from pandas in a future version. Use pandas.concat instead.\n",
      "  process_manager = process_manager.append(process_list , ignore_index=True)\n",
      "C:\\Users\\Faizal Amiruddin\\AppData\\Local\\Temp\\ipykernel_6452\\3920077794.py:44: FutureWarning: The frame.append method is deprecated and will be removed from pandas in a future version. Use pandas.concat instead.\n",
      "  process_manager = process_manager.append(process_list , ignore_index=True)\n"
     ]
    },
    {
     "name": "stdout",
     "output_type": "stream",
     "text": [
      "In the background... 3\n",
      "10236\n",
      "In the background... 3\n",
      "6304\n"
     ]
    },
    {
     "name": "stderr",
     "output_type": "stream",
     "text": [
      "C:\\Users\\Faizal Amiruddin\\AppData\\Local\\Temp\\ipykernel_6452\\3920077794.py:44: FutureWarning: The frame.append method is deprecated and will be removed from pandas in a future version. Use pandas.concat instead.\n",
      "  process_manager = process_manager.append(process_list , ignore_index=True)\n"
     ]
    },
    {
     "name": "stdout",
     "output_type": "stream",
     "text": [
      "In the background... 4\n",
      "10112\n"
     ]
    },
    {
     "name": "stderr",
     "output_type": "stream",
     "text": [
      "C:\\Users\\Faizal Amiruddin\\AppData\\Local\\Temp\\ipykernel_6452\\3920077794.py:44: FutureWarning: The frame.append method is deprecated and will be removed from pandas in a future version. Use pandas.concat instead.\n",
      "  process_manager = process_manager.append(process_list , ignore_index=True)\n",
      "C:\\Users\\Faizal Amiruddin\\AppData\\Local\\Temp\\ipykernel_6452\\3920077794.py:44: FutureWarning: The frame.append method is deprecated and will be removed from pandas in a future version. Use pandas.concat instead.\n",
      "  process_manager = process_manager.append(process_list , ignore_index=True)\n",
      "C:\\Users\\Faizal Amiruddin\\AppData\\Local\\Temp\\ipykernel_6452\\3920077794.py:44: FutureWarning: The frame.append method is deprecated and will be removed from pandas in a future version. Use pandas.concat instead.\n",
      "  process_manager = process_manager.append(process_list , ignore_index=True)\n",
      "C:\\Users\\Faizal Amiruddin\\AppData\\Local\\Temp\\ipykernel_6452\\3920077794.py:44: FutureWarning: The frame.append method is deprecated and will be removed from pandas in a future version. Use pandas.concat instead.\n",
      "  process_manager = process_manager.append(process_list , ignore_index=True)\n"
     ]
    },
    {
     "name": "stdout",
     "output_type": "stream",
     "text": [
      "In the background... 4\n",
      "8080\n",
      "In the background... 4\n",
      "10864\n",
      "In the background... 4In the background... 4\n",
      "6304\n",
      "\n",
      "10236\n"
     ]
    },
    {
     "name": "stderr",
     "output_type": "stream",
     "text": [
      "C:\\Users\\Faizal Amiruddin\\AppData\\Local\\Temp\\ipykernel_6452\\3920077794.py:44: FutureWarning: The frame.append method is deprecated and will be removed from pandas in a future version. Use pandas.concat instead.\n",
      "  process_manager = process_manager.append(process_list , ignore_index=True)\n"
     ]
    },
    {
     "name": "stdout",
     "output_type": "stream",
     "text": [
      "In the background... 5\n",
      "10112\n"
     ]
    },
    {
     "name": "stderr",
     "output_type": "stream",
     "text": [
      "C:\\Users\\Faizal Amiruddin\\AppData\\Local\\Temp\\ipykernel_6452\\3920077794.py:44: FutureWarning: The frame.append method is deprecated and will be removed from pandas in a future version. Use pandas.concat instead.\n",
      "  process_manager = process_manager.append(process_list , ignore_index=True)\n",
      "C:\\Users\\Faizal Amiruddin\\AppData\\Local\\Temp\\ipykernel_6452\\3920077794.py:44: FutureWarning: The frame.append method is deprecated and will be removed from pandas in a future version. Use pandas.concat instead.\n",
      "  process_manager = process_manager.append(process_list , ignore_index=True)\n",
      "C:\\Users\\Faizal Amiruddin\\AppData\\Local\\Temp\\ipykernel_6452\\3920077794.py:44: FutureWarning: The frame.append method is deprecated and will be removed from pandas in a future version. Use pandas.concat instead.\n",
      "  process_manager = process_manager.append(process_list , ignore_index=True)\n"
     ]
    },
    {
     "name": "stdout",
     "output_type": "stream",
     "text": [
      "In the background... 5\n",
      "8080\n",
      "In the background... 5\n",
      "10864\n",
      "In the background... 5\n",
      "6304\n",
      "In the background... 5\n",
      "10236\n"
     ]
    },
    {
     "name": "stderr",
     "output_type": "stream",
     "text": [
      "C:\\Users\\Faizal Amiruddin\\AppData\\Local\\Temp\\ipykernel_6452\\3920077794.py:44: FutureWarning: The frame.append method is deprecated and will be removed from pandas in a future version. Use pandas.concat instead.\n",
      "  process_manager = process_manager.append(process_list , ignore_index=True)\n"
     ]
    },
    {
     "name": "stdout",
     "output_type": "stream",
     "text": [
      "In the background... 6\n",
      "10112\n"
     ]
    },
    {
     "name": "stderr",
     "output_type": "stream",
     "text": [
      "C:\\Users\\Faizal Amiruddin\\AppData\\Local\\Temp\\ipykernel_6452\\3920077794.py:44: FutureWarning: The frame.append method is deprecated and will be removed from pandas in a future version. Use pandas.concat instead.\n",
      "  process_manager = process_manager.append(process_list , ignore_index=True)\n",
      "C:\\Users\\Faizal Amiruddin\\AppData\\Local\\Temp\\ipykernel_6452\\3920077794.py:44: FutureWarning: The frame.append method is deprecated and will be removed from pandas in a future version. Use pandas.concat instead.\n",
      "  process_manager = process_manager.append(process_list , ignore_index=True)\n"
     ]
    },
    {
     "name": "stdout",
     "output_type": "stream",
     "text": [
      "In the background... 6\n",
      "8080\n",
      "In the background... 6\n",
      "10864\n"
     ]
    },
    {
     "name": "stderr",
     "output_type": "stream",
     "text": [
      "C:\\Users\\Faizal Amiruddin\\AppData\\Local\\Temp\\ipykernel_6452\\3920077794.py:44: FutureWarning: The frame.append method is deprecated and will be removed from pandas in a future version. Use pandas.concat instead.\n",
      "  process_manager = process_manager.append(process_list , ignore_index=True)\n",
      "C:\\Users\\Faizal Amiruddin\\AppData\\Local\\Temp\\ipykernel_6452\\3920077794.py:44: FutureWarning: The frame.append method is deprecated and will be removed from pandas in a future version. Use pandas.concat instead.\n",
      "  process_manager = process_manager.append(process_list , ignore_index=True)\n"
     ]
    },
    {
     "name": "stdout",
     "output_type": "stream",
     "text": [
      "In the background... 6\n",
      "6304\n",
      "In the background... 6\n",
      "10236\n"
     ]
    },
    {
     "name": "stderr",
     "output_type": "stream",
     "text": [
      "C:\\Users\\Faizal Amiruddin\\AppData\\Local\\Temp\\ipykernel_6452\\3920077794.py:44: FutureWarning: The frame.append method is deprecated and will be removed from pandas in a future version. Use pandas.concat instead.\n",
      "  process_manager = process_manager.append(process_list , ignore_index=True)\n"
     ]
    },
    {
     "name": "stdout",
     "output_type": "stream",
     "text": [
      "In the background... 7\n",
      "10112\n",
      "In the background... 7\n",
      "8080\n"
     ]
    },
    {
     "name": "stderr",
     "output_type": "stream",
     "text": [
      "C:\\Users\\Faizal Amiruddin\\AppData\\Local\\Temp\\ipykernel_6452\\3920077794.py:44: FutureWarning: The frame.append method is deprecated and will be removed from pandas in a future version. Use pandas.concat instead.\n",
      "  process_manager = process_manager.append(process_list , ignore_index=True)\n",
      "C:\\Users\\Faizal Amiruddin\\AppData\\Local\\Temp\\ipykernel_6452\\3920077794.py:44: FutureWarning: The frame.append method is deprecated and will be removed from pandas in a future version. Use pandas.concat instead.\n",
      "  process_manager = process_manager.append(process_list , ignore_index=True)\n",
      "C:\\Users\\Faizal Amiruddin\\AppData\\Local\\Temp\\ipykernel_6452\\3920077794.py:44: FutureWarning: The frame.append method is deprecated and will be removed from pandas in a future version. Use pandas.concat instead.\n",
      "  process_manager = process_manager.append(process_list , ignore_index=True)\n",
      "C:\\Users\\Faizal Amiruddin\\AppData\\Local\\Temp\\ipykernel_6452\\3920077794.py:44: FutureWarning: The frame.append method is deprecated and will be removed from pandas in a future version. Use pandas.concat instead.\n",
      "  process_manager = process_manager.append(process_list , ignore_index=True)\n"
     ]
    },
    {
     "name": "stdout",
     "output_type": "stream",
     "text": [
      "In the background... 7\n",
      "6304\n",
      "In the background... 7\n",
      "10236\n",
      "In the background... 7\n",
      "10864\n"
     ]
    },
    {
     "name": "stderr",
     "output_type": "stream",
     "text": [
      "C:\\Users\\Faizal Amiruddin\\AppData\\Local\\Temp\\ipykernel_6452\\3920077794.py:44: FutureWarning: The frame.append method is deprecated and will be removed from pandas in a future version. Use pandas.concat instead.\n",
      "  process_manager = process_manager.append(process_list , ignore_index=True)\n",
      "C:\\Users\\Faizal Amiruddin\\AppData\\Local\\Temp\\ipykernel_6452\\3920077794.py:44: FutureWarning: The frame.append method is deprecated and will be removed from pandas in a future version. Use pandas.concat instead.\n",
      "  process_manager = process_manager.append(process_list , ignore_index=True)\n"
     ]
    },
    {
     "name": "stdout",
     "output_type": "stream",
     "text": [
      "In the background... 8In the background... 8\n",
      "8080\n",
      "\n",
      "10112\n"
     ]
    },
    {
     "name": "stderr",
     "output_type": "stream",
     "text": [
      "C:\\Users\\Faizal Amiruddin\\AppData\\Local\\Temp\\ipykernel_6452\\3920077794.py:44: FutureWarning: The frame.append method is deprecated and will be removed from pandas in a future version. Use pandas.concat instead.\n",
      "  process_manager = process_manager.append(process_list , ignore_index=True)\n",
      "C:\\Users\\Faizal Amiruddin\\AppData\\Local\\Temp\\ipykernel_6452\\3920077794.py:44: FutureWarning: The frame.append method is deprecated and will be removed from pandas in a future version. Use pandas.concat instead.\n",
      "  process_manager = process_manager.append(process_list , ignore_index=True)\n",
      "C:\\Users\\Faizal Amiruddin\\AppData\\Local\\Temp\\ipykernel_6452\\3920077794.py:44: FutureWarning: The frame.append method is deprecated and will be removed from pandas in a future version. Use pandas.concat instead.\n",
      "  process_manager = process_manager.append(process_list , ignore_index=True)\n"
     ]
    },
    {
     "name": "stdout",
     "output_type": "stream",
     "text": [
      "In the background... 8\n",
      "6304\n",
      "In the background... 8\n",
      "10864\n",
      "In the background... 8\n",
      "10236\n"
     ]
    },
    {
     "name": "stderr",
     "output_type": "stream",
     "text": [
      "C:\\Users\\Faizal Amiruddin\\AppData\\Local\\Temp\\ipykernel_6452\\3920077794.py:44: FutureWarning: The frame.append method is deprecated and will be removed from pandas in a future version. Use pandas.concat instead.\n",
      "  process_manager = process_manager.append(process_list , ignore_index=True)\n",
      "C:\\Users\\Faizal Amiruddin\\AppData\\Local\\Temp\\ipykernel_6452\\3920077794.py:44: FutureWarning: The frame.append method is deprecated and will be removed from pandas in a future version. Use pandas.concat instead.\n",
      "  process_manager = process_manager.append(process_list , ignore_index=True)\n"
     ]
    },
    {
     "name": "stdout",
     "output_type": "stream",
     "text": [
      "In the background... 9\n",
      "8080\n",
      "In the background... 9\n",
      "10112\n"
     ]
    },
    {
     "name": "stderr",
     "output_type": "stream",
     "text": [
      "C:\\Users\\Faizal Amiruddin\\AppData\\Local\\Temp\\ipykernel_6452\\3920077794.py:44: FutureWarning: The frame.append method is deprecated and will be removed from pandas in a future version. Use pandas.concat instead.\n",
      "  process_manager = process_manager.append(process_list , ignore_index=True)\n",
      "C:\\Users\\Faizal Amiruddin\\AppData\\Local\\Temp\\ipykernel_6452\\3920077794.py:44: FutureWarning: The frame.append method is deprecated and will be removed from pandas in a future version. Use pandas.concat instead.\n",
      "  process_manager = process_manager.append(process_list , ignore_index=True)\n",
      "C:\\Users\\Faizal Amiruddin\\AppData\\Local\\Temp\\ipykernel_6452\\3920077794.py:44: FutureWarning: The frame.append method is deprecated and will be removed from pandas in a future version. Use pandas.concat instead.\n",
      "  process_manager = process_manager.append(process_list , ignore_index=True)\n"
     ]
    },
    {
     "name": "stdout",
     "output_type": "stream",
     "text": [
      "In the background... 9\n",
      "6304\n",
      "In the background... 9\n",
      "10864\n",
      "In the background... 9\n",
      "10236\n"
     ]
    },
    {
     "name": "stderr",
     "output_type": "stream",
     "text": [
      "C:\\Users\\Faizal Amiruddin\\AppData\\Local\\Temp\\ipykernel_6452\\3920077794.py:44: FutureWarning: The frame.append method is deprecated and will be removed from pandas in a future version. Use pandas.concat instead.\n",
      "  process_manager = process_manager.append(process_list , ignore_index=True)\n",
      "C:\\Users\\Faizal Amiruddin\\AppData\\Local\\Temp\\ipykernel_6452\\3920077794.py:44: FutureWarning: The frame.append method is deprecated and will be removed from pandas in a future version. Use pandas.concat instead.\n",
      "  process_manager = process_manager.append(process_list , ignore_index=True)\n"
     ]
    },
    {
     "name": "stdout",
     "output_type": "stream",
     "text": [
      "In the background... 10\n",
      "10112\n",
      "In the background... 10\n",
      "8080\n"
     ]
    },
    {
     "name": "stderr",
     "output_type": "stream",
     "text": [
      "C:\\Users\\Faizal Amiruddin\\AppData\\Local\\Temp\\ipykernel_6452\\3920077794.py:44: FutureWarning: The frame.append method is deprecated and will be removed from pandas in a future version. Use pandas.concat instead.\n",
      "  process_manager = process_manager.append(process_list , ignore_index=True)\n",
      "C:\\Users\\Faizal Amiruddin\\AppData\\Local\\Temp\\ipykernel_6452\\3920077794.py:44: FutureWarning: The frame.append method is deprecated and will be removed from pandas in a future version. Use pandas.concat instead.\n",
      "  process_manager = process_manager.append(process_list , ignore_index=True)\n",
      "C:\\Users\\Faizal Amiruddin\\AppData\\Local\\Temp\\ipykernel_6452\\3920077794.py:44: FutureWarning: The frame.append method is deprecated and will be removed from pandas in a future version. Use pandas.concat instead.\n",
      "  process_manager = process_manager.append(process_list , ignore_index=True)\n"
     ]
    },
    {
     "name": "stdout",
     "output_type": "stream",
     "text": [
      "In the background... 10\n",
      "6304\n",
      "In the background... 10\n",
      "10864\n",
      "In the background... 10\n",
      "10236\n"
     ]
    },
    {
     "name": "stderr",
     "output_type": "stream",
     "text": [
      "C:\\Users\\Faizal Amiruddin\\AppData\\Local\\Temp\\ipykernel_6452\\3920077794.py:44: FutureWarning: The frame.append method is deprecated and will be removed from pandas in a future version. Use pandas.concat instead.\n",
      "  process_manager = process_manager.append(process_list , ignore_index=True)\n",
      "C:\\Users\\Faizal Amiruddin\\AppData\\Local\\Temp\\ipykernel_6452\\3920077794.py:44: FutureWarning: The frame.append method is deprecated and will be removed from pandas in a future version. Use pandas.concat instead.\n",
      "  process_manager = process_manager.append(process_list , ignore_index=True)\n"
     ]
    },
    {
     "name": "stdout",
     "output_type": "stream",
     "text": [
      "In the background... 11\n",
      "8080\n",
      "In the background... 11\n",
      "10112\n"
     ]
    },
    {
     "name": "stderr",
     "output_type": "stream",
     "text": [
      "C:\\Users\\Faizal Amiruddin\\AppData\\Local\\Temp\\ipykernel_6452\\3920077794.py:44: FutureWarning: The frame.append method is deprecated and will be removed from pandas in a future version. Use pandas.concat instead.\n",
      "  process_manager = process_manager.append(process_list , ignore_index=True)\n",
      "C:\\Users\\Faizal Amiruddin\\AppData\\Local\\Temp\\ipykernel_6452\\3920077794.py:44: FutureWarning: The frame.append method is deprecated and will be removed from pandas in a future version. Use pandas.concat instead.\n",
      "  process_manager = process_manager.append(process_list , ignore_index=True)\n",
      "C:\\Users\\Faizal Amiruddin\\AppData\\Local\\Temp\\ipykernel_6452\\3920077794.py:44: FutureWarning: The frame.append method is deprecated and will be removed from pandas in a future version. Use pandas.concat instead.\n",
      "  process_manager = process_manager.append(process_list , ignore_index=True)\n"
     ]
    },
    {
     "name": "stdout",
     "output_type": "stream",
     "text": [
      "In the background... 11\n",
      "6304\n",
      "In the background... 11\n",
      "10864\n",
      "In the background... 11\n",
      "10236\n"
     ]
    },
    {
     "name": "stderr",
     "output_type": "stream",
     "text": [
      "C:\\Users\\Faizal Amiruddin\\AppData\\Local\\Temp\\ipykernel_6452\\3920077794.py:44: FutureWarning: The frame.append method is deprecated and will be removed from pandas in a future version. Use pandas.concat instead.\n",
      "  process_manager = process_manager.append(process_list , ignore_index=True)\n",
      "C:\\Users\\Faizal Amiruddin\\AppData\\Local\\Temp\\ipykernel_6452\\3920077794.py:44: FutureWarning: The frame.append method is deprecated and will be removed from pandas in a future version. Use pandas.concat instead.\n",
      "  process_manager = process_manager.append(process_list , ignore_index=True)\n"
     ]
    },
    {
     "name": "stdout",
     "output_type": "stream",
     "text": [
      "In the background... 12\n",
      "8080\n",
      "In the background... 12\n",
      "10112\n"
     ]
    }
   ],
   "source": [
    "#get_all_process([8340,8864,8804,9712,5396,3984,2096])\n",
    "get_all_process([10112,6304,10236,8080,10864])"
   ]
  },
  {
   "cell_type": "code",
   "execution_count": 18,
   "id": "4a125d3f",
   "metadata": {},
   "outputs": [
    {
     "name": "stderr",
     "output_type": "stream",
     "text": [
      "C:\\Users\\Faizal Amiruddin\\AppData\\Local\\Temp\\ipykernel_6452\\3920077794.py:44: FutureWarning: The frame.append method is deprecated and will be removed from pandas in a future version. Use pandas.concat instead.\n",
      "  process_manager = process_manager.append(process_list , ignore_index=True)\n",
      "C:\\Users\\Faizal Amiruddin\\AppData\\Local\\Temp\\ipykernel_6452\\3920077794.py:44: FutureWarning: The frame.append method is deprecated and will be removed from pandas in a future version. Use pandas.concat instead.\n",
      "  process_manager = process_manager.append(process_list , ignore_index=True)\n",
      "C:\\Users\\Faizal Amiruddin\\AppData\\Local\\Temp\\ipykernel_6452\\3920077794.py:44: FutureWarning: The frame.append method is deprecated and will be removed from pandas in a future version. Use pandas.concat instead.\n",
      "  process_manager = process_manager.append(process_list , ignore_index=True)\n"
     ]
    },
    {
     "name": "stdout",
     "output_type": "stream",
     "text": [
      "In the background... 12\n",
      "All done!\n",
      "In the background... 12\n",
      "All done!\n",
      "Export Success\n",
      "Export Success\n",
      "In the background... 12\n",
      "All done!\n",
      "Export Success\n"
     ]
    },
    {
     "name": "stderr",
     "output_type": "stream",
     "text": [
      "C:\\Users\\Faizal Amiruddin\\AppData\\Local\\Temp\\ipykernel_6452\\3920077794.py:44: FutureWarning: The frame.append method is deprecated and will be removed from pandas in a future version. Use pandas.concat instead.\n",
      "  process_manager = process_manager.append(process_list , ignore_index=True)\n",
      "C:\\Users\\Faizal Amiruddin\\AppData\\Local\\Temp\\ipykernel_6452\\3920077794.py:44: FutureWarning: The frame.append method is deprecated and will be removed from pandas in a future version. Use pandas.concat instead.\n",
      "  process_manager = process_manager.append(process_list , ignore_index=True)\n"
     ]
    },
    {
     "name": "stdout",
     "output_type": "stream",
     "text": [
      "In the background... 13\n",
      "All done!\n",
      "Export Success\n",
      "In the background... 13\n",
      "All done!\n",
      "Export Success\n"
     ]
    }
   ],
   "source": [
    "do_process = False"
   ]
  },
  {
   "cell_type": "code",
   "execution_count": 21,
   "id": "f3d0d4fb",
   "metadata": {},
   "outputs": [
    {
     "data": {
      "text/plain": [
       "{'Ethernet': [snicaddr(family=<AddressFamily.AF_LINK: -1>, address='48-BA-4E-88-35-6D', netmask=None, broadcast=None, ptp=None),\n",
       "  snicaddr(family=<AddressFamily.AF_INET: 2>, address='169.254.212.225', netmask='255.255.0.0', broadcast=None, ptp=None),\n",
       "  snicaddr(family=<AddressFamily.AF_INET6: 23>, address='fe80::8de0:222e:cf4b:d4e1', netmask=None, broadcast=None, ptp=None)],\n",
       " 'Local Area Connection* 1': [snicaddr(family=<AddressFamily.AF_LINK: -1>, address='88-B1-11-42-8F-0C', netmask=None, broadcast=None, ptp=None),\n",
       "  snicaddr(family=<AddressFamily.AF_INET: 2>, address='169.254.169.96', netmask='255.255.0.0', broadcast=None, ptp=None),\n",
       "  snicaddr(family=<AddressFamily.AF_INET6: 23>, address='fe80::3094:1655:5a3d:a960', netmask=None, broadcast=None, ptp=None)],\n",
       " 'Local Area Connection* 2': [snicaddr(family=<AddressFamily.AF_LINK: -1>, address='8A-B1-11-42-8F-0B', netmask=None, broadcast=None, ptp=None),\n",
       "  snicaddr(family=<AddressFamily.AF_INET: 2>, address='169.254.163.189', netmask='255.255.0.0', broadcast=None, ptp=None),\n",
       "  snicaddr(family=<AddressFamily.AF_INET6: 23>, address='fe80::1d27:fdbf:cf24:a3bd', netmask=None, broadcast=None, ptp=None)],\n",
       " 'Ethernet 2': [snicaddr(family=<AddressFamily.AF_LINK: -1>, address='00-FF-88-DE-00-EA', netmask=None, broadcast=None, ptp=None),\n",
       "  snicaddr(family=<AddressFamily.AF_INET: 2>, address='10.80.250.77', netmask='255.255.255.0', broadcast=None, ptp=None),\n",
       "  snicaddr(family=<AddressFamily.AF_INET: 2>, address='169.254.165.17', netmask='255.255.0.0', broadcast=None, ptp=None),\n",
       "  snicaddr(family=<AddressFamily.AF_INET6: 23>, address='fe80::e463:9286:b2da:a511', netmask=None, broadcast=None, ptp=None)],\n",
       " 'Wi-Fi': [snicaddr(family=<AddressFamily.AF_LINK: -1>, address='88-B1-11-42-8F-0B', netmask=None, broadcast=None, ptp=None),\n",
       "  snicaddr(family=<AddressFamily.AF_INET: 2>, address='192.168.100.164', netmask='255.255.255.0', broadcast=None, ptp=None)],\n",
       " 'Bluetooth Network Connection': [snicaddr(family=<AddressFamily.AF_LINK: -1>, address='88-B1-11-42-8F-0F', netmask=None, broadcast=None, ptp=None),\n",
       "  snicaddr(family=<AddressFamily.AF_INET: 2>, address='169.254.133.240', netmask='255.255.0.0', broadcast=None, ptp=None),\n",
       "  snicaddr(family=<AddressFamily.AF_INET6: 23>, address='fe80::5ddb:60e4:200f:85f0', netmask=None, broadcast=None, ptp=None)],\n",
       " 'Loopback Pseudo-Interface 1': [snicaddr(family=<AddressFamily.AF_INET: 2>, address='127.0.0.1', netmask='255.0.0.0', broadcast=None, ptp=None),\n",
       "  snicaddr(family=<AddressFamily.AF_INET6: 23>, address='::1', netmask=None, broadcast=None, ptp=None)]}"
      ]
     },
     "execution_count": 21,
     "metadata": {},
     "output_type": "execute_result"
    }
   ],
   "source": [
    "psutil.net_if_addrs()"
   ]
  },
  {
   "cell_type": "code",
   "execution_count": null,
   "id": "ea03496b",
   "metadata": {},
   "outputs": [],
   "source": []
  }
 ],
 "metadata": {
  "kernelspec": {
   "display_name": "Python 3 (ipykernel)",
   "language": "python",
   "name": "python3"
  },
  "language_info": {
   "codemirror_mode": {
    "name": "ipython",
    "version": 3
   },
   "file_extension": ".py",
   "mimetype": "text/x-python",
   "name": "python",
   "nbconvert_exporter": "python",
   "pygments_lexer": "ipython3",
   "version": "3.10.4"
  }
 },
 "nbformat": 4,
 "nbformat_minor": 5
}

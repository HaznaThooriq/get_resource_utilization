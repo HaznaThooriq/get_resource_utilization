{
 "cells": [
  {
   "cell_type": "code",
   "execution_count": 1,
   "id": "f39de4ad",
   "metadata": {},
   "outputs": [],
   "source": [
    "#Import Library\n",
    "import psutil\n",
    "import pandas as pd\n",
    "import sched, time\n",
    "from datetime import datetime\n",
    "from IPython.lib import backgroundjobs as bg\n",
    "#import win32com.client"
   ]
  },
  {
   "cell_type": "code",
   "execution_count": 2,
   "id": "e2349cd6",
   "metadata": {},
   "outputs": [],
   "source": [
    "do_process = True\n",
    "jobs = bg.BackgroundJobManager()\n",
    "def get_all_process(process = []):    \n",
    "    for pid in process:\n",
    "        def get_data(interval=1, process_pid=pid):\n",
    "            process_manager = pd.DataFrame()\n",
    "            n = 1\n",
    "            global do_process\n",
    "            while do_process:\n",
    "                print (process_pid)\n",
    "                time.sleep(interval)\n",
    "                p = psutil.Process(process_pid)\n",
    "                process_list = p.as_dict(attrs=\n",
    "                                    ['pid', 'name', 'cpu_percent', \n",
    "                                      'memory_percent', 'exe'])\n",
    "                \n",
    "                #storage-util\n",
    "                io_counters = p.io_counters()\n",
    "                disk_io_counter = psutil.disk_io_counters()\n",
    "                disk_usage_process = io_counters[2] + io_counters[3] # read_bytes + write_bytes\n",
    "                disk_total = disk_io_counter[2] + disk_io_counter[3] # read_bytes + write_bytes\n",
    "                #process_list ['disk_usage_process'] = str(disk_usage_process)\n",
    "                #process_list ['disk_total'] = str(disk_total)\n",
    "                #process_list ['disk_io_read_bytes'] = str(disk_io_counter[2])\n",
    "                #process_list ['disk_io_write_bytes'] = str(disk_io_counter[3])\n",
    "                #process_list ['io_read_bytes'] = str(io_counters[2])\n",
    "                #process_list ['io_write_bytes'] = str(io_countes[3])\n",
    "                process_list ['storage_util'] = disk_usage_process/disk_total\n",
    "                \n",
    "                \n",
    "                #io-util\n",
    "                io_usage_process = io_counters[0] + io_counters[1] # read_count + write_count\n",
    "                io_total = disk_io_counter[0] + disk_io_counter[1] # read_count + write_count\n",
    "                #print(\"Disk\", disk_usage_process/disk_total * 100)\n",
    "                process_list ['io_util'] = io_usage_process/io_total\n",
    "                \n",
    "                \n",
    "                #process_list ['disk_io_counter'] = str(disk_io_counter)\n",
    "                \n",
    "                #cpu_percent\n",
    "                process_list ['cpu_percent'] = p.cpu_percent(interval=1)/psutil.cpu_count()\n",
    "                \n",
    "                #wset\n",
    "                #process_list ['wset'] = process_list.get(memory)\n",
    "                \n",
    "                process_list ['timestamp'] = datetime.now().isoformat()\n",
    "                #process_list ['wset'] = process_list['memory_info'][4]\n",
    "                #process_list ['port'] = process_list['connections'][0][3][1]\n",
    "                process_manager = process_manager.append(process_list , ignore_index=True)\n",
    "                print('In the background... %i' % n)\n",
    "                n += 1\n",
    "            print('All done!')\n",
    "            process_manager.to_csv( 'export/' + str(process_pid) + '.csv')\n",
    "            print (\"Export Success\")\n",
    "            \n",
    "        #get_data(1 , pid)\n",
    "        global jobs\n",
    "        jobs.new(get_data, 1, pid) \n",
    "        jobs.status()"
   ]
  },
  {
   "cell_type": "code",
   "execution_count": 3,
   "id": "e2a8a99a",
   "metadata": {},
   "outputs": [
    {
     "name": "stdout",
     "output_type": "stream",
     "text": [
      "3284Running jobs:\n",
      "0 : <function get_all_process.<locals>.get_data at 0x000001BCF4B04DC0>\n",
      "\n",
      "\n",
      "2720\n",
      "Running jobs:\n",
      "0 : <function get_all_process.<locals>.get_data at 0x000001BCF4B04DC0>\n",
      "1 : <function get_all_process.<locals>.get_data at 0x000001BCF4B052D0>\n",
      "\n",
      "4232\n",
      "Running jobs:\n",
      "0 : <function get_all_process.<locals>.get_data at 0x000001BCF4B04DC0>\n",
      "1 : <function get_all_process.<locals>.get_data at 0x000001BCF4B052D0>\n",
      "2 : <function get_all_process.<locals>.get_data at 0x000001BCF4B05240>\n",
      "\n",
      "Running jobs:\n",
      "0 : <function get_all_process.<locals>.get_data at 0x000001BCF4B04DC0>\n",
      "1 : <function get_all_process.<locals>.get_data at 0x000001BCF4B052D0>\n",
      "2 : <function get_all_process.<locals>.get_data at 0x000001BCF4B05240>\n",
      "3 : <function get_all_process.<locals>.get_data at 0x000001BCF4B055A0>\n",
      "\n",
      "9936\n",
      "10680\n",
      "Running jobs:\n",
      "0 : <function get_all_process.<locals>.get_data at 0x000001BCF4B04DC0>\n",
      "1 : <function get_all_process.<locals>.get_data at 0x000001BCF4B052D0>\n",
      "2 : <function get_all_process.<locals>.get_data at 0x000001BCF4B05240>\n",
      "3 : <function get_all_process.<locals>.get_data at 0x000001BCF4B055A0>\n",
      "4 : <function get_all_process.<locals>.get_data at 0x000001BCF4B05750>\n",
      "\n"
     ]
    },
    {
     "name": "stderr",
     "output_type": "stream",
     "text": [
      "C:\\Users\\Faizal Amiruddin\\AppData\\Local\\Temp\\ipykernel_7304\\1650511619.py:49: FutureWarning: The frame.append method is deprecated and will be removed from pandas in a future version. Use pandas.concat instead.\n",
      "  process_manager = process_manager.append(process_list , ignore_index=True)\n",
      "C:\\Users\\Faizal Amiruddin\\AppData\\Local\\Temp\\ipykernel_7304\\1650511619.py:49: FutureWarning: The frame.append method is deprecated and will be removed from pandas in a future version. Use pandas.concat instead.\n",
      "  process_manager = process_manager.append(process_list , ignore_index=True)\n",
      "C:\\Users\\Faizal Amiruddin\\AppData\\Local\\Temp\\ipykernel_7304\\1650511619.py:49: FutureWarning: The frame.append method is deprecated and will be removed from pandas in a future version. Use pandas.concat instead.\n",
      "  process_manager = process_manager.append(process_list , ignore_index=True)\n",
      "C:\\Users\\Faizal Amiruddin\\AppData\\Local\\Temp\\ipykernel_7304\\1650511619.py:49: FutureWarning: The frame.append method is deprecated and will be removed from pandas in a future version. Use pandas.concat instead.\n",
      "  process_manager = process_manager.append(process_list , ignore_index=True)\n",
      "C:\\Users\\Faizal Amiruddin\\AppData\\Local\\Temp\\ipykernel_7304\\1650511619.py:49: FutureWarning: The frame.append method is deprecated and will be removed from pandas in a future version. Use pandas.concat instead.\n",
      "  process_manager = process_manager.append(process_list , ignore_index=True)\n"
     ]
    },
    {
     "name": "stdout",
     "output_type": "stream",
     "text": [
      "In the background... 1\n",
      "2720\n",
      "In the background... 1\n",
      "10680\n",
      "In the background... 1\n",
      "3284\n",
      "In the background... 1\n",
      "4232\n",
      "In the background... 1\n",
      "9936\n"
     ]
    },
    {
     "name": "stderr",
     "output_type": "stream",
     "text": [
      "C:\\Users\\Faizal Amiruddin\\AppData\\Local\\Temp\\ipykernel_7304\\1650511619.py:49: FutureWarning: The frame.append method is deprecated and will be removed from pandas in a future version. Use pandas.concat instead.\n",
      "  process_manager = process_manager.append(process_list , ignore_index=True)\n",
      "C:\\Users\\Faizal Amiruddin\\AppData\\Local\\Temp\\ipykernel_7304\\1650511619.py:49: FutureWarning: The frame.append method is deprecated and will be removed from pandas in a future version. Use pandas.concat instead.\n",
      "  process_manager = process_manager.append(process_list , ignore_index=True)\n",
      "C:\\Users\\Faizal Amiruddin\\AppData\\Local\\Temp\\ipykernel_7304\\1650511619.py:49: FutureWarning: The frame.append method is deprecated and will be removed from pandas in a future version. Use pandas.concat instead.\n",
      "  process_manager = process_manager.append(process_list , ignore_index=True)\n"
     ]
    },
    {
     "name": "stdout",
     "output_type": "stream",
     "text": [
      "In the background... 2\n",
      "2720\n",
      "In the background... 2\n",
      "3284\n",
      "In the background... 2\n",
      "10680\n",
      "In the background... 2\n",
      "4232\n"
     ]
    },
    {
     "name": "stderr",
     "output_type": "stream",
     "text": [
      "C:\\Users\\Faizal Amiruddin\\AppData\\Local\\Temp\\ipykernel_7304\\1650511619.py:49: FutureWarning: The frame.append method is deprecated and will be removed from pandas in a future version. Use pandas.concat instead.\n",
      "  process_manager = process_manager.append(process_list , ignore_index=True)\n"
     ]
    },
    {
     "name": "stdout",
     "output_type": "stream",
     "text": [
      "In the background... 2\n",
      "9936\n"
     ]
    },
    {
     "name": "stderr",
     "output_type": "stream",
     "text": [
      "C:\\Users\\Faizal Amiruddin\\AppData\\Local\\Temp\\ipykernel_7304\\1650511619.py:49: FutureWarning: The frame.append method is deprecated and will be removed from pandas in a future version. Use pandas.concat instead.\n",
      "  process_manager = process_manager.append(process_list , ignore_index=True)\n",
      "C:\\Users\\Faizal Amiruddin\\AppData\\Local\\Temp\\ipykernel_7304\\1650511619.py:49: FutureWarning: The frame.append method is deprecated and will be removed from pandas in a future version. Use pandas.concat instead.\n",
      "  process_manager = process_manager.append(process_list , ignore_index=True)\n"
     ]
    },
    {
     "name": "stdout",
     "output_type": "stream",
     "text": [
      "In the background... 3\n",
      "2720\n",
      "In the background... 3\n",
      "3284\n"
     ]
    },
    {
     "name": "stderr",
     "output_type": "stream",
     "text": [
      "C:\\Users\\Faizal Amiruddin\\AppData\\Local\\Temp\\ipykernel_7304\\1650511619.py:49: FutureWarning: The frame.append method is deprecated and will be removed from pandas in a future version. Use pandas.concat instead.\n",
      "  process_manager = process_manager.append(process_list , ignore_index=True)\n",
      "C:\\Users\\Faizal Amiruddin\\AppData\\Local\\Temp\\ipykernel_7304\\1650511619.py:49: FutureWarning: The frame.append method is deprecated and will be removed from pandas in a future version. Use pandas.concat instead.\n",
      "  process_manager = process_manager.append(process_list , ignore_index=True)\n"
     ]
    },
    {
     "name": "stdout",
     "output_type": "stream",
     "text": [
      "In the background... 3\n",
      "10680\n",
      "In the background... 3\n",
      "4232\n",
      "In the background... 3\n",
      "9936\n"
     ]
    },
    {
     "name": "stderr",
     "output_type": "stream",
     "text": [
      "C:\\Users\\Faizal Amiruddin\\AppData\\Local\\Temp\\ipykernel_7304\\1650511619.py:49: FutureWarning: The frame.append method is deprecated and will be removed from pandas in a future version. Use pandas.concat instead.\n",
      "  process_manager = process_manager.append(process_list , ignore_index=True)\n",
      "C:\\Users\\Faizal Amiruddin\\AppData\\Local\\Temp\\ipykernel_7304\\1650511619.py:49: FutureWarning: The frame.append method is deprecated and will be removed from pandas in a future version. Use pandas.concat instead.\n",
      "  process_manager = process_manager.append(process_list , ignore_index=True)\n",
      "C:\\Users\\Faizal Amiruddin\\AppData\\Local\\Temp\\ipykernel_7304\\1650511619.py:49: FutureWarning: The frame.append method is deprecated and will be removed from pandas in a future version. Use pandas.concat instead.\n",
      "  process_manager = process_manager.append(process_list , ignore_index=True)\n"
     ]
    },
    {
     "name": "stdout",
     "output_type": "stream",
     "text": [
      "In the background... 4\n",
      "2720\n",
      "In the background... 4\n",
      "3284\n",
      "In the background... 4\n",
      "10680\n"
     ]
    },
    {
     "name": "stderr",
     "output_type": "stream",
     "text": [
      "C:\\Users\\Faizal Amiruddin\\AppData\\Local\\Temp\\ipykernel_7304\\1650511619.py:49: FutureWarning: The frame.append method is deprecated and will be removed from pandas in a future version. Use pandas.concat instead.\n",
      "  process_manager = process_manager.append(process_list , ignore_index=True)\n",
      "C:\\Users\\Faizal Amiruddin\\AppData\\Local\\Temp\\ipykernel_7304\\1650511619.py:49: FutureWarning: The frame.append method is deprecated and will be removed from pandas in a future version. Use pandas.concat instead.\n",
      "  process_manager = process_manager.append(process_list , ignore_index=True)\n"
     ]
    },
    {
     "name": "stdout",
     "output_type": "stream",
     "text": [
      "In the background... 4\n",
      "4232\n",
      "In the background... 4\n",
      "9936\n"
     ]
    },
    {
     "name": "stderr",
     "output_type": "stream",
     "text": [
      "C:\\Users\\Faizal Amiruddin\\AppData\\Local\\Temp\\ipykernel_7304\\1650511619.py:49: FutureWarning: The frame.append method is deprecated and will be removed from pandas in a future version. Use pandas.concat instead.\n",
      "  process_manager = process_manager.append(process_list , ignore_index=True)\n",
      "C:\\Users\\Faizal Amiruddin\\AppData\\Local\\Temp\\ipykernel_7304\\1650511619.py:49: FutureWarning: The frame.append method is deprecated and will be removed from pandas in a future version. Use pandas.concat instead.\n",
      "  process_manager = process_manager.append(process_list , ignore_index=True)\n"
     ]
    },
    {
     "name": "stdout",
     "output_type": "stream",
     "text": [
      "In the background... 5\n",
      "2720\n"
     ]
    },
    {
     "name": "stderr",
     "output_type": "stream",
     "text": [
      "C:\\Users\\Faizal Amiruddin\\AppData\\Local\\Temp\\ipykernel_7304\\1650511619.py:49: FutureWarning: The frame.append method is deprecated and will be removed from pandas in a future version. Use pandas.concat instead.\n",
      "  process_manager = process_manager.append(process_list , ignore_index=True)\n",
      "C:\\Users\\Faizal Amiruddin\\AppData\\Local\\Temp\\ipykernel_7304\\1650511619.py:49: FutureWarning: The frame.append method is deprecated and will be removed from pandas in a future version. Use pandas.concat instead.\n",
      "  process_manager = process_manager.append(process_list , ignore_index=True)\n"
     ]
    },
    {
     "name": "stdout",
     "output_type": "stream",
     "text": [
      "In the background... 5\n",
      "3284\n",
      "In the background... 5\n",
      "10680\n"
     ]
    },
    {
     "name": "stderr",
     "output_type": "stream",
     "text": [
      "C:\\Users\\Faizal Amiruddin\\AppData\\Local\\Temp\\ipykernel_7304\\1650511619.py:49: FutureWarning: The frame.append method is deprecated and will be removed from pandas in a future version. Use pandas.concat instead.\n",
      "  process_manager = process_manager.append(process_list , ignore_index=True)\n",
      "C:\\Users\\Faizal Amiruddin\\AppData\\Local\\Temp\\ipykernel_7304\\1650511619.py:49: FutureWarning: The frame.append method is deprecated and will be removed from pandas in a future version. Use pandas.concat instead.\n",
      "  process_manager = process_manager.append(process_list , ignore_index=True)\n"
     ]
    },
    {
     "name": "stdout",
     "output_type": "stream",
     "text": [
      "In the background... 5\n",
      "9936\n",
      "In the background... 5\n",
      "4232\n"
     ]
    },
    {
     "name": "stderr",
     "output_type": "stream",
     "text": [
      "C:\\Users\\Faizal Amiruddin\\AppData\\Local\\Temp\\ipykernel_7304\\1650511619.py:49: FutureWarning: The frame.append method is deprecated and will be removed from pandas in a future version. Use pandas.concat instead.\n",
      "  process_manager = process_manager.append(process_list , ignore_index=True)\n"
     ]
    },
    {
     "name": "stdout",
     "output_type": "stream",
     "text": [
      "In the background... 6\n",
      "2720\n"
     ]
    },
    {
     "name": "stderr",
     "output_type": "stream",
     "text": [
      "C:\\Users\\Faizal Amiruddin\\AppData\\Local\\Temp\\ipykernel_7304\\1650511619.py:49: FutureWarning: The frame.append method is deprecated and will be removed from pandas in a future version. Use pandas.concat instead.\n",
      "  process_manager = process_manager.append(process_list , ignore_index=True)\n"
     ]
    },
    {
     "name": "stdout",
     "output_type": "stream",
     "text": [
      "In the background... 6\n",
      "3284\n"
     ]
    },
    {
     "name": "stderr",
     "output_type": "stream",
     "text": [
      "C:\\Users\\Faizal Amiruddin\\AppData\\Local\\Temp\\ipykernel_7304\\1650511619.py:49: FutureWarning: The frame.append method is deprecated and will be removed from pandas in a future version. Use pandas.concat instead.\n",
      "  process_manager = process_manager.append(process_list , ignore_index=True)\n"
     ]
    },
    {
     "name": "stdout",
     "output_type": "stream",
     "text": [
      "In the background... 6\n",
      "10680\n",
      "In the background... 6\n",
      "9936\n",
      "In the background... 6\n",
      "4232\n"
     ]
    },
    {
     "name": "stderr",
     "output_type": "stream",
     "text": [
      "C:\\Users\\Faizal Amiruddin\\AppData\\Local\\Temp\\ipykernel_7304\\1650511619.py:49: FutureWarning: The frame.append method is deprecated and will be removed from pandas in a future version. Use pandas.concat instead.\n",
      "  process_manager = process_manager.append(process_list , ignore_index=True)\n",
      "C:\\Users\\Faizal Amiruddin\\AppData\\Local\\Temp\\ipykernel_7304\\1650511619.py:49: FutureWarning: The frame.append method is deprecated and will be removed from pandas in a future version. Use pandas.concat instead.\n",
      "  process_manager = process_manager.append(process_list , ignore_index=True)\n",
      "C:\\Users\\Faizal Amiruddin\\AppData\\Local\\Temp\\ipykernel_7304\\1650511619.py:49: FutureWarning: The frame.append method is deprecated and will be removed from pandas in a future version. Use pandas.concat instead.\n",
      "  process_manager = process_manager.append(process_list , ignore_index=True)\n"
     ]
    },
    {
     "name": "stdout",
     "output_type": "stream",
     "text": [
      "In the background... 7\n",
      "2720\n"
     ]
    },
    {
     "name": "stderr",
     "output_type": "stream",
     "text": [
      "C:\\Users\\Faizal Amiruddin\\AppData\\Local\\Temp\\ipykernel_7304\\1650511619.py:49: FutureWarning: The frame.append method is deprecated and will be removed from pandas in a future version. Use pandas.concat instead.\n",
      "  process_manager = process_manager.append(process_list , ignore_index=True)\n"
     ]
    },
    {
     "name": "stdout",
     "output_type": "stream",
     "text": [
      "In the background... 7\n",
      "3284\n"
     ]
    },
    {
     "name": "stderr",
     "output_type": "stream",
     "text": [
      "C:\\Users\\Faizal Amiruddin\\AppData\\Local\\Temp\\ipykernel_7304\\1650511619.py:49: FutureWarning: The frame.append method is deprecated and will be removed from pandas in a future version. Use pandas.concat instead.\n",
      "  process_manager = process_manager.append(process_list , ignore_index=True)\n",
      "C:\\Users\\Faizal Amiruddin\\AppData\\Local\\Temp\\ipykernel_7304\\1650511619.py:49: FutureWarning: The frame.append method is deprecated and will be removed from pandas in a future version. Use pandas.concat instead.\n",
      "  process_manager = process_manager.append(process_list , ignore_index=True)\n"
     ]
    },
    {
     "name": "stdout",
     "output_type": "stream",
     "text": [
      "In the background... 7\n",
      "10680\n"
     ]
    },
    {
     "name": "stderr",
     "output_type": "stream",
     "text": [
      "C:\\Users\\Faizal Amiruddin\\AppData\\Local\\Temp\\ipykernel_7304\\1650511619.py:49: FutureWarning: The frame.append method is deprecated and will be removed from pandas in a future version. Use pandas.concat instead.\n",
      "  process_manager = process_manager.append(process_list , ignore_index=True)\n"
     ]
    },
    {
     "name": "stdout",
     "output_type": "stream",
     "text": [
      "In the background... 7\n",
      "4232\n",
      "In the background... 7\n",
      "9936\n"
     ]
    },
    {
     "name": "stderr",
     "output_type": "stream",
     "text": [
      "C:\\Users\\Faizal Amiruddin\\AppData\\Local\\Temp\\ipykernel_7304\\1650511619.py:49: FutureWarning: The frame.append method is deprecated and will be removed from pandas in a future version. Use pandas.concat instead.\n",
      "  process_manager = process_manager.append(process_list , ignore_index=True)\n"
     ]
    },
    {
     "name": "stdout",
     "output_type": "stream",
     "text": [
      "In the background... 8\n",
      "2720\n"
     ]
    },
    {
     "name": "stderr",
     "output_type": "stream",
     "text": [
      "C:\\Users\\Faizal Amiruddin\\AppData\\Local\\Temp\\ipykernel_7304\\1650511619.py:49: FutureWarning: The frame.append method is deprecated and will be removed from pandas in a future version. Use pandas.concat instead.\n",
      "  process_manager = process_manager.append(process_list , ignore_index=True)\n",
      "C:\\Users\\Faizal Amiruddin\\AppData\\Local\\Temp\\ipykernel_7304\\1650511619.py:49: FutureWarning: The frame.append method is deprecated and will be removed from pandas in a future version. Use pandas.concat instead.\n",
      "  process_manager = process_manager.append(process_list , ignore_index=True)\n"
     ]
    },
    {
     "name": "stdout",
     "output_type": "stream",
     "text": [
      "In the background... 8\n",
      "3284\n",
      "In the background... 8\n",
      "10680\n"
     ]
    },
    {
     "name": "stderr",
     "output_type": "stream",
     "text": [
      "C:\\Users\\Faizal Amiruddin\\AppData\\Local\\Temp\\ipykernel_7304\\1650511619.py:49: FutureWarning: The frame.append method is deprecated and will be removed from pandas in a future version. Use pandas.concat instead.\n",
      "  process_manager = process_manager.append(process_list , ignore_index=True)\n"
     ]
    },
    {
     "name": "stdout",
     "output_type": "stream",
     "text": [
      "In the background... 8In the background... 8\n",
      "9936\n",
      "\n",
      "4232\n"
     ]
    },
    {
     "name": "stderr",
     "output_type": "stream",
     "text": [
      "C:\\Users\\Faizal Amiruddin\\AppData\\Local\\Temp\\ipykernel_7304\\1650511619.py:49: FutureWarning: The frame.append method is deprecated and will be removed from pandas in a future version. Use pandas.concat instead.\n",
      "  process_manager = process_manager.append(process_list , ignore_index=True)\n"
     ]
    },
    {
     "name": "stdout",
     "output_type": "stream",
     "text": [
      "In the background... 9\n",
      "2720\n"
     ]
    },
    {
     "name": "stderr",
     "output_type": "stream",
     "text": [
      "C:\\Users\\Faizal Amiruddin\\AppData\\Local\\Temp\\ipykernel_7304\\1650511619.py:49: FutureWarning: The frame.append method is deprecated and will be removed from pandas in a future version. Use pandas.concat instead.\n",
      "  process_manager = process_manager.append(process_list , ignore_index=True)\n",
      "C:\\Users\\Faizal Amiruddin\\AppData\\Local\\Temp\\ipykernel_7304\\1650511619.py:49: FutureWarning: The frame.append method is deprecated and will be removed from pandas in a future version. Use pandas.concat instead.\n",
      "  process_manager = process_manager.append(process_list , ignore_index=True)\n"
     ]
    },
    {
     "name": "stdout",
     "output_type": "stream",
     "text": [
      "In the background... 9\n",
      "3284\n",
      "In the background... 9\n",
      "10680\n"
     ]
    },
    {
     "name": "stderr",
     "output_type": "stream",
     "text": [
      "C:\\Users\\Faizal Amiruddin\\AppData\\Local\\Temp\\ipykernel_7304\\1650511619.py:49: FutureWarning: The frame.append method is deprecated and will be removed from pandas in a future version. Use pandas.concat instead.\n",
      "  process_manager = process_manager.append(process_list , ignore_index=True)\n",
      "C:\\Users\\Faizal Amiruddin\\AppData\\Local\\Temp\\ipykernel_7304\\1650511619.py:49: FutureWarning: The frame.append method is deprecated and will be removed from pandas in a future version. Use pandas.concat instead.\n",
      "  process_manager = process_manager.append(process_list , ignore_index=True)\n"
     ]
    },
    {
     "name": "stdout",
     "output_type": "stream",
     "text": [
      "In the background... 9\n",
      "4232\n",
      "In the background... 9\n",
      "9936\n"
     ]
    },
    {
     "name": "stderr",
     "output_type": "stream",
     "text": [
      "C:\\Users\\Faizal Amiruddin\\AppData\\Local\\Temp\\ipykernel_7304\\1650511619.py:49: FutureWarning: The frame.append method is deprecated and will be removed from pandas in a future version. Use pandas.concat instead.\n",
      "  process_manager = process_manager.append(process_list , ignore_index=True)\n"
     ]
    },
    {
     "name": "stdout",
     "output_type": "stream",
     "text": [
      "In the background... 10\n",
      "2720\n"
     ]
    },
    {
     "name": "stderr",
     "output_type": "stream",
     "text": [
      "C:\\Users\\Faizal Amiruddin\\AppData\\Local\\Temp\\ipykernel_7304\\1650511619.py:49: FutureWarning: The frame.append method is deprecated and will be removed from pandas in a future version. Use pandas.concat instead.\n",
      "  process_manager = process_manager.append(process_list , ignore_index=True)\n",
      "C:\\Users\\Faizal Amiruddin\\AppData\\Local\\Temp\\ipykernel_7304\\1650511619.py:49: FutureWarning: The frame.append method is deprecated and will be removed from pandas in a future version. Use pandas.concat instead.\n",
      "  process_manager = process_manager.append(process_list , ignore_index=True)\n"
     ]
    },
    {
     "name": "stdout",
     "output_type": "stream",
     "text": [
      "In the background... 10\n",
      "3284\n",
      "In the background... 10\n",
      "10680\n"
     ]
    },
    {
     "name": "stderr",
     "output_type": "stream",
     "text": [
      "C:\\Users\\Faizal Amiruddin\\AppData\\Local\\Temp\\ipykernel_7304\\1650511619.py:49: FutureWarning: The frame.append method is deprecated and will be removed from pandas in a future version. Use pandas.concat instead.\n",
      "  process_manager = process_manager.append(process_list , ignore_index=True)\n",
      "C:\\Users\\Faizal Amiruddin\\AppData\\Local\\Temp\\ipykernel_7304\\1650511619.py:49: FutureWarning: The frame.append method is deprecated and will be removed from pandas in a future version. Use pandas.concat instead.\n",
      "  process_manager = process_manager.append(process_list , ignore_index=True)\n"
     ]
    },
    {
     "name": "stdout",
     "output_type": "stream",
     "text": [
      "In the background... 10\n",
      "4232\n",
      "In the background... 10\n",
      "9936\n"
     ]
    },
    {
     "name": "stderr",
     "output_type": "stream",
     "text": [
      "C:\\Users\\Faizal Amiruddin\\AppData\\Local\\Temp\\ipykernel_7304\\1650511619.py:49: FutureWarning: The frame.append method is deprecated and will be removed from pandas in a future version. Use pandas.concat instead.\n",
      "  process_manager = process_manager.append(process_list , ignore_index=True)\n"
     ]
    },
    {
     "name": "stdout",
     "output_type": "stream",
     "text": [
      "In the background... 11\n",
      "2720\n"
     ]
    },
    {
     "name": "stderr",
     "output_type": "stream",
     "text": [
      "C:\\Users\\Faizal Amiruddin\\AppData\\Local\\Temp\\ipykernel_7304\\1650511619.py:49: FutureWarning: The frame.append method is deprecated and will be removed from pandas in a future version. Use pandas.concat instead.\n",
      "  process_manager = process_manager.append(process_list , ignore_index=True)\n",
      "C:\\Users\\Faizal Amiruddin\\AppData\\Local\\Temp\\ipykernel_7304\\1650511619.py:49: FutureWarning: The frame.append method is deprecated and will be removed from pandas in a future version. Use pandas.concat instead.\n",
      "  process_manager = process_manager.append(process_list , ignore_index=True)\n"
     ]
    },
    {
     "name": "stdout",
     "output_type": "stream",
     "text": [
      "In the background... 11\n",
      "3284\n",
      "In the background... 11\n",
      "10680\n"
     ]
    },
    {
     "name": "stderr",
     "output_type": "stream",
     "text": [
      "C:\\Users\\Faizal Amiruddin\\AppData\\Local\\Temp\\ipykernel_7304\\1650511619.py:49: FutureWarning: The frame.append method is deprecated and will be removed from pandas in a future version. Use pandas.concat instead.\n",
      "  process_manager = process_manager.append(process_list , ignore_index=True)\n",
      "C:\\Users\\Faizal Amiruddin\\AppData\\Local\\Temp\\ipykernel_7304\\1650511619.py:49: FutureWarning: The frame.append method is deprecated and will be removed from pandas in a future version. Use pandas.concat instead.\n",
      "  process_manager = process_manager.append(process_list , ignore_index=True)\n"
     ]
    },
    {
     "name": "stdout",
     "output_type": "stream",
     "text": [
      "In the background... 11\n",
      "4232\n",
      "In the background... 11\n",
      "9936\n"
     ]
    },
    {
     "name": "stderr",
     "output_type": "stream",
     "text": [
      "C:\\Users\\Faizal Amiruddin\\AppData\\Local\\Temp\\ipykernel_7304\\1650511619.py:49: FutureWarning: The frame.append method is deprecated and will be removed from pandas in a future version. Use pandas.concat instead.\n",
      "  process_manager = process_manager.append(process_list , ignore_index=True)\n"
     ]
    },
    {
     "name": "stdout",
     "output_type": "stream",
     "text": [
      "In the background... 12\n",
      "2720\n"
     ]
    },
    {
     "name": "stderr",
     "output_type": "stream",
     "text": [
      "C:\\Users\\Faizal Amiruddin\\AppData\\Local\\Temp\\ipykernel_7304\\1650511619.py:49: FutureWarning: The frame.append method is deprecated and will be removed from pandas in a future version. Use pandas.concat instead.\n",
      "  process_manager = process_manager.append(process_list , ignore_index=True)\n",
      "C:\\Users\\Faizal Amiruddin\\AppData\\Local\\Temp\\ipykernel_7304\\1650511619.py:49: FutureWarning: The frame.append method is deprecated and will be removed from pandas in a future version. Use pandas.concat instead.\n",
      "  process_manager = process_manager.append(process_list , ignore_index=True)\n"
     ]
    },
    {
     "name": "stdout",
     "output_type": "stream",
     "text": [
      "In the background... 12\n",
      "3284\n",
      "In the background... 12\n",
      "10680\n"
     ]
    },
    {
     "name": "stderr",
     "output_type": "stream",
     "text": [
      "C:\\Users\\Faizal Amiruddin\\AppData\\Local\\Temp\\ipykernel_7304\\1650511619.py:49: FutureWarning: The frame.append method is deprecated and will be removed from pandas in a future version. Use pandas.concat instead.\n",
      "  process_manager = process_manager.append(process_list , ignore_index=True)\n",
      "C:\\Users\\Faizal Amiruddin\\AppData\\Local\\Temp\\ipykernel_7304\\1650511619.py:49: FutureWarning: The frame.append method is deprecated and will be removed from pandas in a future version. Use pandas.concat instead.\n",
      "  process_manager = process_manager.append(process_list , ignore_index=True)\n"
     ]
    },
    {
     "name": "stdout",
     "output_type": "stream",
     "text": [
      "In the background... 12\n",
      "9936\n",
      "In the background... 12\n",
      "4232\n"
     ]
    },
    {
     "name": "stderr",
     "output_type": "stream",
     "text": [
      "C:\\Users\\Faizal Amiruddin\\AppData\\Local\\Temp\\ipykernel_7304\\1650511619.py:49: FutureWarning: The frame.append method is deprecated and will be removed from pandas in a future version. Use pandas.concat instead.\n",
      "  process_manager = process_manager.append(process_list , ignore_index=True)\n"
     ]
    },
    {
     "name": "stdout",
     "output_type": "stream",
     "text": [
      "In the background... 13\n",
      "2720\n"
     ]
    },
    {
     "name": "stderr",
     "output_type": "stream",
     "text": [
      "C:\\Users\\Faizal Amiruddin\\AppData\\Local\\Temp\\ipykernel_7304\\1650511619.py:49: FutureWarning: The frame.append method is deprecated and will be removed from pandas in a future version. Use pandas.concat instead.\n",
      "  process_manager = process_manager.append(process_list , ignore_index=True)\n",
      "C:\\Users\\Faizal Amiruddin\\AppData\\Local\\Temp\\ipykernel_7304\\1650511619.py:49: FutureWarning: The frame.append method is deprecated and will be removed from pandas in a future version. Use pandas.concat instead.\n",
      "  process_manager = process_manager.append(process_list , ignore_index=True)\n"
     ]
    },
    {
     "name": "stdout",
     "output_type": "stream",
     "text": [
      "In the background... 13\n",
      "3284\n",
      "In the background... 13\n",
      "10680\n"
     ]
    },
    {
     "name": "stderr",
     "output_type": "stream",
     "text": [
      "C:\\Users\\Faizal Amiruddin\\AppData\\Local\\Temp\\ipykernel_7304\\1650511619.py:49: FutureWarning: The frame.append method is deprecated and will be removed from pandas in a future version. Use pandas.concat instead.\n",
      "  process_manager = process_manager.append(process_list , ignore_index=True)\n"
     ]
    },
    {
     "name": "stdout",
     "output_type": "stream",
     "text": [
      "In the background... 13\n",
      "9936\n"
     ]
    },
    {
     "name": "stderr",
     "output_type": "stream",
     "text": [
      "C:\\Users\\Faizal Amiruddin\\AppData\\Local\\Temp\\ipykernel_7304\\1650511619.py:49: FutureWarning: The frame.append method is deprecated and will be removed from pandas in a future version. Use pandas.concat instead.\n",
      "  process_manager = process_manager.append(process_list , ignore_index=True)\n"
     ]
    },
    {
     "name": "stdout",
     "output_type": "stream",
     "text": [
      "In the background... 13\n",
      "4232\n"
     ]
    },
    {
     "name": "stderr",
     "output_type": "stream",
     "text": [
      "C:\\Users\\Faizal Amiruddin\\AppData\\Local\\Temp\\ipykernel_7304\\1650511619.py:49: FutureWarning: The frame.append method is deprecated and will be removed from pandas in a future version. Use pandas.concat instead.\n",
      "  process_manager = process_manager.append(process_list , ignore_index=True)\n"
     ]
    },
    {
     "name": "stdout",
     "output_type": "stream",
     "text": [
      "In the background... 14\n",
      "2720\n"
     ]
    },
    {
     "name": "stderr",
     "output_type": "stream",
     "text": [
      "C:\\Users\\Faizal Amiruddin\\AppData\\Local\\Temp\\ipykernel_7304\\1650511619.py:49: FutureWarning: The frame.append method is deprecated and will be removed from pandas in a future version. Use pandas.concat instead.\n",
      "  process_manager = process_manager.append(process_list , ignore_index=True)\n"
     ]
    },
    {
     "name": "stdout",
     "output_type": "stream",
     "text": [
      "In the background... 14\n",
      "3284\n"
     ]
    },
    {
     "name": "stderr",
     "output_type": "stream",
     "text": [
      "C:\\Users\\Faizal Amiruddin\\AppData\\Local\\Temp\\ipykernel_7304\\1650511619.py:49: FutureWarning: The frame.append method is deprecated and will be removed from pandas in a future version. Use pandas.concat instead.\n",
      "  process_manager = process_manager.append(process_list , ignore_index=True)\n"
     ]
    },
    {
     "name": "stdout",
     "output_type": "stream",
     "text": [
      "In the background... 14\n",
      "10680\n"
     ]
    },
    {
     "name": "stderr",
     "output_type": "stream",
     "text": [
      "C:\\Users\\Faizal Amiruddin\\AppData\\Local\\Temp\\ipykernel_7304\\1650511619.py:49: FutureWarning: The frame.append method is deprecated and will be removed from pandas in a future version. Use pandas.concat instead.\n",
      "  process_manager = process_manager.append(process_list , ignore_index=True)\n",
      "C:\\Users\\Faizal Amiruddin\\AppData\\Local\\Temp\\ipykernel_7304\\1650511619.py:49: FutureWarning: The frame.append method is deprecated and will be removed from pandas in a future version. Use pandas.concat instead.\n",
      "  process_manager = process_manager.append(process_list , ignore_index=True)\n"
     ]
    },
    {
     "name": "stdout",
     "output_type": "stream",
     "text": [
      "In the background... 14\n",
      "9936\n",
      "In the background... 14\n",
      "4232\n"
     ]
    },
    {
     "name": "stderr",
     "output_type": "stream",
     "text": [
      "C:\\Users\\Faizal Amiruddin\\AppData\\Local\\Temp\\ipykernel_7304\\1650511619.py:49: FutureWarning: The frame.append method is deprecated and will be removed from pandas in a future version. Use pandas.concat instead.\n",
      "  process_manager = process_manager.append(process_list , ignore_index=True)\n"
     ]
    },
    {
     "name": "stdout",
     "output_type": "stream",
     "text": [
      "In the background... 15\n",
      "2720\n",
      "In the background... 15\n",
      "3284\n"
     ]
    },
    {
     "name": "stderr",
     "output_type": "stream",
     "text": [
      "C:\\Users\\Faizal Amiruddin\\AppData\\Local\\Temp\\ipykernel_7304\\1650511619.py:49: FutureWarning: The frame.append method is deprecated and will be removed from pandas in a future version. Use pandas.concat instead.\n",
      "  process_manager = process_manager.append(process_list , ignore_index=True)\n",
      "C:\\Users\\Faizal Amiruddin\\AppData\\Local\\Temp\\ipykernel_7304\\1650511619.py:49: FutureWarning: The frame.append method is deprecated and will be removed from pandas in a future version. Use pandas.concat instead.\n",
      "  process_manager = process_manager.append(process_list , ignore_index=True)\n"
     ]
    },
    {
     "name": "stdout",
     "output_type": "stream",
     "text": [
      "In the background... 15\n",
      "10680\n"
     ]
    },
    {
     "name": "stderr",
     "output_type": "stream",
     "text": [
      "C:\\Users\\Faizal Amiruddin\\AppData\\Local\\Temp\\ipykernel_7304\\1650511619.py:49: FutureWarning: The frame.append method is deprecated and will be removed from pandas in a future version. Use pandas.concat instead.\n",
      "  process_manager = process_manager.append(process_list , ignore_index=True)\n",
      "C:\\Users\\Faizal Amiruddin\\AppData\\Local\\Temp\\ipykernel_7304\\1650511619.py:49: FutureWarning: The frame.append method is deprecated and will be removed from pandas in a future version. Use pandas.concat instead.\n",
      "  process_manager = process_manager.append(process_list , ignore_index=True)\n"
     ]
    },
    {
     "name": "stdout",
     "output_type": "stream",
     "text": [
      "In the background... 15\n",
      "9936\n",
      "In the background... 15\n",
      "4232\n"
     ]
    },
    {
     "name": "stderr",
     "output_type": "stream",
     "text": [
      "C:\\Users\\Faizal Amiruddin\\AppData\\Local\\Temp\\ipykernel_7304\\1650511619.py:49: FutureWarning: The frame.append method is deprecated and will be removed from pandas in a future version. Use pandas.concat instead.\n",
      "  process_manager = process_manager.append(process_list , ignore_index=True)\n",
      "C:\\Users\\Faizal Amiruddin\\AppData\\Local\\Temp\\ipykernel_7304\\1650511619.py:49: FutureWarning: The frame.append method is deprecated and will be removed from pandas in a future version. Use pandas.concat instead.\n",
      "  process_manager = process_manager.append(process_list , ignore_index=True)\n"
     ]
    },
    {
     "name": "stdout",
     "output_type": "stream",
     "text": [
      "In the background... 16\n",
      "2720\n",
      "In the background... 16\n",
      "3284\n"
     ]
    },
    {
     "name": "stderr",
     "output_type": "stream",
     "text": [
      "C:\\Users\\Faizal Amiruddin\\AppData\\Local\\Temp\\ipykernel_7304\\1650511619.py:49: FutureWarning: The frame.append method is deprecated and will be removed from pandas in a future version. Use pandas.concat instead.\n",
      "  process_manager = process_manager.append(process_list , ignore_index=True)\n"
     ]
    },
    {
     "name": "stdout",
     "output_type": "stream",
     "text": [
      "In the background... 16\n",
      "10680\n"
     ]
    },
    {
     "name": "stderr",
     "output_type": "stream",
     "text": [
      "C:\\Users\\Faizal Amiruddin\\AppData\\Local\\Temp\\ipykernel_7304\\1650511619.py:49: FutureWarning: The frame.append method is deprecated and will be removed from pandas in a future version. Use pandas.concat instead.\n",
      "  process_manager = process_manager.append(process_list , ignore_index=True)\n",
      "C:\\Users\\Faizal Amiruddin\\AppData\\Local\\Temp\\ipykernel_7304\\1650511619.py:49: FutureWarning: The frame.append method is deprecated and will be removed from pandas in a future version. Use pandas.concat instead.\n",
      "  process_manager = process_manager.append(process_list , ignore_index=True)\n"
     ]
    },
    {
     "name": "stdout",
     "output_type": "stream",
     "text": [
      "In the background... 16\n",
      "9936\n",
      "In the background... 16\n",
      "4232\n"
     ]
    },
    {
     "name": "stderr",
     "output_type": "stream",
     "text": [
      "C:\\Users\\Faizal Amiruddin\\AppData\\Local\\Temp\\ipykernel_7304\\1650511619.py:49: FutureWarning: The frame.append method is deprecated and will be removed from pandas in a future version. Use pandas.concat instead.\n",
      "  process_manager = process_manager.append(process_list , ignore_index=True)\n",
      "C:\\Users\\Faizal Amiruddin\\AppData\\Local\\Temp\\ipykernel_7304\\1650511619.py:49: FutureWarning: The frame.append method is deprecated and will be removed from pandas in a future version. Use pandas.concat instead.\n",
      "  process_manager = process_manager.append(process_list , ignore_index=True)\n"
     ]
    },
    {
     "name": "stdout",
     "output_type": "stream",
     "text": [
      "In the background... 17In the background... 17\n",
      "3284\n",
      "\n",
      "2720\n"
     ]
    },
    {
     "name": "stderr",
     "output_type": "stream",
     "text": [
      "C:\\Users\\Faizal Amiruddin\\AppData\\Local\\Temp\\ipykernel_7304\\1650511619.py:49: FutureWarning: The frame.append method is deprecated and will be removed from pandas in a future version. Use pandas.concat instead.\n",
      "  process_manager = process_manager.append(process_list , ignore_index=True)\n"
     ]
    },
    {
     "name": "stdout",
     "output_type": "stream",
     "text": [
      "In the background... 17\n",
      "10680\n"
     ]
    },
    {
     "name": "stderr",
     "output_type": "stream",
     "text": [
      "C:\\Users\\Faizal Amiruddin\\AppData\\Local\\Temp\\ipykernel_7304\\1650511619.py:49: FutureWarning: The frame.append method is deprecated and will be removed from pandas in a future version. Use pandas.concat instead.\n",
      "  process_manager = process_manager.append(process_list , ignore_index=True)\n",
      "C:\\Users\\Faizal Amiruddin\\AppData\\Local\\Temp\\ipykernel_7304\\1650511619.py:49: FutureWarning: The frame.append method is deprecated and will be removed from pandas in a future version. Use pandas.concat instead.\n",
      "  process_manager = process_manager.append(process_list , ignore_index=True)\n"
     ]
    },
    {
     "name": "stdout",
     "output_type": "stream",
     "text": [
      "In the background... 17\n",
      "9936\n",
      "In the background... 17\n",
      "4232\n"
     ]
    },
    {
     "name": "stderr",
     "output_type": "stream",
     "text": [
      "C:\\Users\\Faizal Amiruddin\\AppData\\Local\\Temp\\ipykernel_7304\\1650511619.py:49: FutureWarning: The frame.append method is deprecated and will be removed from pandas in a future version. Use pandas.concat instead.\n",
      "  process_manager = process_manager.append(process_list , ignore_index=True)\n",
      "C:\\Users\\Faizal Amiruddin\\AppData\\Local\\Temp\\ipykernel_7304\\1650511619.py:49: FutureWarning: The frame.append method is deprecated and will be removed from pandas in a future version. Use pandas.concat instead.\n",
      "  process_manager = process_manager.append(process_list , ignore_index=True)\n"
     ]
    },
    {
     "name": "stdout",
     "output_type": "stream",
     "text": [
      "In the background... 18In the background... 18\n",
      "3284\n",
      "\n",
      "2720\n"
     ]
    },
    {
     "name": "stderr",
     "output_type": "stream",
     "text": [
      "C:\\Users\\Faizal Amiruddin\\AppData\\Local\\Temp\\ipykernel_7304\\1650511619.py:49: FutureWarning: The frame.append method is deprecated and will be removed from pandas in a future version. Use pandas.concat instead.\n",
      "  process_manager = process_manager.append(process_list , ignore_index=True)\n"
     ]
    },
    {
     "name": "stdout",
     "output_type": "stream",
     "text": [
      "In the background... 18\n",
      "10680\n"
     ]
    },
    {
     "name": "stderr",
     "output_type": "stream",
     "text": [
      "C:\\Users\\Faizal Amiruddin\\AppData\\Local\\Temp\\ipykernel_7304\\1650511619.py:49: FutureWarning: The frame.append method is deprecated and will be removed from pandas in a future version. Use pandas.concat instead.\n",
      "  process_manager = process_manager.append(process_list , ignore_index=True)\n",
      "C:\\Users\\Faizal Amiruddin\\AppData\\Local\\Temp\\ipykernel_7304\\1650511619.py:49: FutureWarning: The frame.append method is deprecated and will be removed from pandas in a future version. Use pandas.concat instead.\n",
      "  process_manager = process_manager.append(process_list , ignore_index=True)\n"
     ]
    },
    {
     "name": "stdout",
     "output_type": "stream",
     "text": [
      "In the background... 18\n",
      "4232\n",
      "In the background... 18\n",
      "9936\n"
     ]
    },
    {
     "name": "stderr",
     "output_type": "stream",
     "text": [
      "C:\\Users\\Faizal Amiruddin\\AppData\\Local\\Temp\\ipykernel_7304\\1650511619.py:49: FutureWarning: The frame.append method is deprecated and will be removed from pandas in a future version. Use pandas.concat instead.\n",
      "  process_manager = process_manager.append(process_list , ignore_index=True)\n",
      "C:\\Users\\Faizal Amiruddin\\AppData\\Local\\Temp\\ipykernel_7304\\1650511619.py:49: FutureWarning: The frame.append method is deprecated and will be removed from pandas in a future version. Use pandas.concat instead.\n",
      "  process_manager = process_manager.append(process_list , ignore_index=True)\n"
     ]
    },
    {
     "name": "stdout",
     "output_type": "stream",
     "text": [
      "In the background... 19\n",
      "3284\n",
      "In the background... 19\n",
      "2720\n"
     ]
    },
    {
     "name": "stderr",
     "output_type": "stream",
     "text": [
      "C:\\Users\\Faizal Amiruddin\\AppData\\Local\\Temp\\ipykernel_7304\\1650511619.py:49: FutureWarning: The frame.append method is deprecated and will be removed from pandas in a future version. Use pandas.concat instead.\n",
      "  process_manager = process_manager.append(process_list , ignore_index=True)\n"
     ]
    },
    {
     "name": "stdout",
     "output_type": "stream",
     "text": [
      "In the background... 19\n",
      "10680\n"
     ]
    },
    {
     "name": "stderr",
     "output_type": "stream",
     "text": [
      "C:\\Users\\Faizal Amiruddin\\AppData\\Local\\Temp\\ipykernel_7304\\1650511619.py:49: FutureWarning: The frame.append method is deprecated and will be removed from pandas in a future version. Use pandas.concat instead.\n",
      "  process_manager = process_manager.append(process_list , ignore_index=True)\n",
      "C:\\Users\\Faizal Amiruddin\\AppData\\Local\\Temp\\ipykernel_7304\\1650511619.py:49: FutureWarning: The frame.append method is deprecated and will be removed from pandas in a future version. Use pandas.concat instead.\n",
      "  process_manager = process_manager.append(process_list , ignore_index=True)\n"
     ]
    },
    {
     "name": "stdout",
     "output_type": "stream",
     "text": [
      "In the background... 19\n",
      "4232\n",
      "In the background... 19\n",
      "9936\n"
     ]
    },
    {
     "name": "stderr",
     "output_type": "stream",
     "text": [
      "C:\\Users\\Faizal Amiruddin\\AppData\\Local\\Temp\\ipykernel_7304\\1650511619.py:49: FutureWarning: The frame.append method is deprecated and will be removed from pandas in a future version. Use pandas.concat instead.\n",
      "  process_manager = process_manager.append(process_list , ignore_index=True)\n",
      "C:\\Users\\Faizal Amiruddin\\AppData\\Local\\Temp\\ipykernel_7304\\1650511619.py:49: FutureWarning: The frame.append method is deprecated and will be removed from pandas in a future version. Use pandas.concat instead.\n",
      "  process_manager = process_manager.append(process_list , ignore_index=True)\n",
      "C:\\Users\\Faizal Amiruddin\\AppData\\Local\\Temp\\ipykernel_7304\\1650511619.py:49: FutureWarning: The frame.append method is deprecated and will be removed from pandas in a future version. Use pandas.concat instead.\n",
      "  process_manager = process_manager.append(process_list , ignore_index=True)\n"
     ]
    },
    {
     "name": "stdout",
     "output_type": "stream",
     "text": [
      "In the background... 20\n",
      "3284\n",
      "In the background... 20\n",
      "10680\n",
      "In the background... 20\n",
      "2720\n"
     ]
    },
    {
     "name": "stderr",
     "output_type": "stream",
     "text": [
      "C:\\Users\\Faizal Amiruddin\\AppData\\Local\\Temp\\ipykernel_7304\\1650511619.py:49: FutureWarning: The frame.append method is deprecated and will be removed from pandas in a future version. Use pandas.concat instead.\n",
      "  process_manager = process_manager.append(process_list , ignore_index=True)\n"
     ]
    },
    {
     "name": "stdout",
     "output_type": "stream",
     "text": [
      "In the background... 20\n",
      "4232\n"
     ]
    },
    {
     "name": "stderr",
     "output_type": "stream",
     "text": [
      "C:\\Users\\Faizal Amiruddin\\AppData\\Local\\Temp\\ipykernel_7304\\1650511619.py:49: FutureWarning: The frame.append method is deprecated and will be removed from pandas in a future version. Use pandas.concat instead.\n",
      "  process_manager = process_manager.append(process_list , ignore_index=True)\n"
     ]
    },
    {
     "name": "stdout",
     "output_type": "stream",
     "text": [
      "In the background... 20\n",
      "9936\n"
     ]
    },
    {
     "name": "stderr",
     "output_type": "stream",
     "text": [
      "C:\\Users\\Faizal Amiruddin\\AppData\\Local\\Temp\\ipykernel_7304\\1650511619.py:49: FutureWarning: The frame.append method is deprecated and will be removed from pandas in a future version. Use pandas.concat instead.\n",
      "  process_manager = process_manager.append(process_list , ignore_index=True)\n",
      "C:\\Users\\Faizal Amiruddin\\AppData\\Local\\Temp\\ipykernel_7304\\1650511619.py:49: FutureWarning: The frame.append method is deprecated and will be removed from pandas in a future version. Use pandas.concat instead.\n",
      "  process_manager = process_manager.append(process_list , ignore_index=True)\n",
      "C:\\Users\\Faizal Amiruddin\\AppData\\Local\\Temp\\ipykernel_7304\\1650511619.py:49: FutureWarning: The frame.append method is deprecated and will be removed from pandas in a future version. Use pandas.concat instead.\n",
      "  process_manager = process_manager.append(process_list , ignore_index=True)\n"
     ]
    },
    {
     "name": "stdout",
     "output_type": "stream",
     "text": [
      "In the background... 21\n",
      "3284\n",
      "In the background... 21\n",
      "10680\n",
      "In the background... 21\n",
      "2720\n"
     ]
    }
   ],
   "source": [
    "#get_all_process([8340,8864,8804,9712,5396,3984,2096])\n",
    "get_all_process([3284,2720,4232,9936,10680])"
   ]
  },
  {
   "cell_type": "code",
   "execution_count": 4,
   "id": "4a125d3f",
   "metadata": {},
   "outputs": [
    {
     "name": "stderr",
     "output_type": "stream",
     "text": [
      "C:\\Users\\Faizal Amiruddin\\AppData\\Local\\Temp\\ipykernel_7304\\1650511619.py:49: FutureWarning: The frame.append method is deprecated and will be removed from pandas in a future version. Use pandas.concat instead.\n",
      "  process_manager = process_manager.append(process_list , ignore_index=True)\n"
     ]
    },
    {
     "name": "stdout",
     "output_type": "stream",
     "text": [
      "In the background... 21\n",
      "All done!\n",
      "Export Success\n"
     ]
    },
    {
     "name": "stderr",
     "output_type": "stream",
     "text": [
      "C:\\Users\\Faizal Amiruddin\\AppData\\Local\\Temp\\ipykernel_7304\\1650511619.py:49: FutureWarning: The frame.append method is deprecated and will be removed from pandas in a future version. Use pandas.concat instead.\n",
      "  process_manager = process_manager.append(process_list , ignore_index=True)\n"
     ]
    },
    {
     "name": "stdout",
     "output_type": "stream",
     "text": [
      "In the background... 21\n",
      "All done!\n",
      "Export Success\n"
     ]
    },
    {
     "name": "stderr",
     "output_type": "stream",
     "text": [
      "C:\\Users\\Faizal Amiruddin\\AppData\\Local\\Temp\\ipykernel_7304\\1650511619.py:49: FutureWarning: The frame.append method is deprecated and will be removed from pandas in a future version. Use pandas.concat instead.\n",
      "  process_manager = process_manager.append(process_list , ignore_index=True)\n"
     ]
    },
    {
     "name": "stdout",
     "output_type": "stream",
     "text": [
      "In the background... 22\n",
      "All done!\n",
      "Export Success\n",
      "In the background... 22\n",
      "All done!\n",
      "Export Success\n"
     ]
    },
    {
     "name": "stderr",
     "output_type": "stream",
     "text": [
      "C:\\Users\\Faizal Amiruddin\\AppData\\Local\\Temp\\ipykernel_7304\\1650511619.py:49: FutureWarning: The frame.append method is deprecated and will be removed from pandas in a future version. Use pandas.concat instead.\n",
      "  process_manager = process_manager.append(process_list , ignore_index=True)\n"
     ]
    },
    {
     "name": "stdout",
     "output_type": "stream",
     "text": [
      "In the background... 22\n",
      "All done!\n",
      "Export Success\n"
     ]
    }
   ],
   "source": [
    "do_process = False"
   ]
  },
  {
   "cell_type": "code",
   "execution_count": null,
   "id": "ea03496b",
   "metadata": {},
   "outputs": [],
   "source": []
  }
 ],
 "metadata": {
  "kernelspec": {
   "display_name": "Python 3 (ipykernel)",
   "language": "python",
   "name": "python3"
  },
  "language_info": {
   "codemirror_mode": {
    "name": "ipython",
    "version": 3
   },
   "file_extension": ".py",
   "mimetype": "text/x-python",
   "name": "python",
   "nbconvert_exporter": "python",
   "pygments_lexer": "ipython3",
   "version": "3.10.4"
  }
 },
 "nbformat": 4,
 "nbformat_minor": 5
}

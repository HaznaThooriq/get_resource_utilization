{
 "cells": [
  {
   "cell_type": "code",
   "execution_count": 1,
   "id": "70479802",
   "metadata": {},
   "outputs": [],
   "source": [
    "#Import Library\n",
    "import psutil\n",
    "import pandas as pd\n",
    "import sched, time\n",
    "from datetime import datetime\n",
    "from IPython.lib import backgroundjobs as bg\n",
    "#import win32com.client"
   ]
  },
  {
   "cell_type": "code",
   "execution_count": 3,
   "id": "7998907c",
   "metadata": {},
   "outputs": [
    {
     "name": "stdout",
     "output_type": "stream",
     "text": [
      "Note: you may need to restart the kernel to use updated packages.\n"
     ]
    },
    {
     "name": "stderr",
     "output_type": "stream",
     "text": [
      "WARNING: Requirement 'lxml-4.2.3-cp37-cp37m-win32.whl' looks like a filename, but the file does not exist\n",
      "ERROR: lxml-4.2.3-cp37-cp37m-win32.whl is not a supported wheel on this platform.\n"
     ]
    }
   ],
   "source": [
    "pip install lxml-4.2.3-cp37-cp37m-win32.whl"
   ]
  },
  {
   "cell_type": "code",
   "execution_count": 5,
   "id": "883c363e",
   "metadata": {},
   "outputs": [
    {
     "name": "stdout",
     "output_type": "stream",
     "text": [
      "Processing c:\\users\\hazna\\documents\\jupyter notebook\\somepackage-1.0-py2.py3-none-any.whl\n",
      "Note: you may need to restart the kernel to use updated packages.\n"
     ]
    },
    {
     "name": "stderr",
     "output_type": "stream",
     "text": [
      "WARNING: Requirement 'SomePackage-1.0-py2.py3-none-any.whl' looks like a filename, but the file does not exist\n",
      "ERROR: Could not install packages due to an OSError: [Errno 2] No such file or directory: 'C:\\\\Users\\\\hazna\\\\Documents\\\\Jupyter Notebook\\\\SomePackage-1.0-py2.py3-none-any.whl'\n",
      "\n"
     ]
    }
   ],
   "source": [
    "pip install SomePackage-1.0-py2.py3-none-any.whl"
   ]
  },
  {
   "cell_type": "code",
   "execution_count": 6,
   "id": "fe3ee410",
   "metadata": {},
   "outputs": [
    {
     "name": "stdout",
     "output_type": "stream",
     "text": [
      "Requirement already satisfied: wheel in c:\\users\\hazna\\appdata\\local\\programs\\python\\python310\\lib\\site-packages (0.37.0)\n",
      "Note: you may need to restart the kernel to use updated packages.\n"
     ]
    }
   ],
   "source": [
    "pip install wheel"
   ]
  },
  {
   "cell_type": "code",
   "execution_count": 17,
   "id": "0e75b382",
   "metadata": {},
   "outputs": [],
   "source": [
    "do_process = True\n",
    "jobs = bg.BackgroundJobManager()\n",
    "def get_all_process(process = []):    \n",
    "    for pid in process:\n",
    "        def get_data(interval=1, process_pid=pid):\n",
    "            process_manager = pd.DataFrame()\n",
    "            n = 1\n",
    "            global do_process\n",
    "            while do_process:\n",
    "                print (process_pid)\n",
    "                time.sleep(interval)\n",
    "                p = psutil.Process(process_pid)\n",
    "                process_list = p.as_dict(attrs=\n",
    "                                     ['pid', 'name', 'connections', 'cpu_percent', 'memory_info', \n",
    "                                      'memory_percent', 'io_counters', 'exe'])\n",
    "                process_list ['timestamp'] = datetime.now().isoformat()\n",
    "                process_list ['wset'] = process_list['memory_info'][4]\n",
    "                process_manager = process_manager.append(process_list , ignore_index=True)\n",
    "                print('In the background... %i' % n)\n",
    "                n += 1\n",
    "            print('All done!')\n",
    "            process_manager.to_csv( 'export/' + str(process_pid) + '.csv')\n",
    "            print (\"Export Success\")\n",
    "            \n",
    "        #get_data(1 , pid)\n",
    "        global jobs\n",
    "        jobs.new(get_data, 1, pid) \n",
    "        jobs.status()"
   ]
  },
  {
   "cell_type": "code",
   "execution_count": 18,
   "id": "7c477973",
   "metadata": {},
   "outputs": [
    {
     "name": "stdout",
     "output_type": "stream",
     "text": [
      "10880\n",
      "Running jobs:\n",
      "0 : <function get_all_process.<locals>.get_data at 0x000001D60421DD80>\n",
      "\n",
      "5208Running jobs:\n",
      "0 : <function get_all_process.<locals>.get_data at 0x000001D60421DD80>\n",
      "\n",
      "1 : <function get_all_process.<locals>.get_data at 0x000001D60421E050>\n",
      "\n",
      "In the background... 1In the background... 1\n",
      "10880\n",
      "\n",
      "5208\n",
      "In the background... 2\n",
      "5208\n",
      "In the background... 2\n",
      "10880\n",
      "In the background... 3\n",
      "10880\n",
      "In the background... 3\n",
      "5208\n",
      "In the background... 4\n",
      "10880\n",
      "In the background... 4\n",
      "5208\n",
      "In the background... 5\n",
      "10880\n",
      "In the background... 5\n",
      "5208\n",
      "In the background... 6\n",
      "In the background... 610880\n",
      "\n",
      "5208\n",
      "In the background... 7\n",
      "10880\n",
      "In the background... 7\n",
      "5208\n",
      "In the background... 8\n",
      "5208In the background... 8\n",
      "10880\n",
      "\n",
      "In the background... 9\n",
      "5208\n",
      "In the background... 9\n",
      "10880\n",
      "In the background... 10In the background... 10\n",
      "\n",
      "10880\n",
      "5208\n",
      "In the background... 11In the background... 11\n",
      "10880\n",
      "\n",
      "5208\n",
      "In the background... 12In the background... 12\n",
      "10880\n",
      "\n",
      "5208\n",
      "In the background... 13In the background... 13\n",
      "\n",
      "520810880\n",
      "\n",
      "In the background... 14In the background... 14\n",
      "10880\n",
      "\n",
      "5208\n",
      "In the background... 15\n",
      "5208\n",
      "In the background... 15\n",
      "10880\n",
      "In the background... 16\n",
      "5208\n",
      "In the background... 16\n",
      "10880\n",
      "In the background... 17\n",
      "5208\n",
      "In the background... 17\n",
      "10880\n",
      "In the background... 18\n",
      "5208\n",
      "In the background... 18\n",
      "10880\n",
      "In the background... 19\n",
      "5208\n",
      "In the background... 19\n",
      "10880\n",
      "In the background... 20\n",
      "5208\n",
      "In the background... 20\n",
      "10880\n",
      "In the background... 21\n",
      "5208\n",
      "In the background... 21\n",
      "10880\n"
     ]
    }
   ],
   "source": [
    "#get_all_process([8340,8864,8804,9712,5396,3984,2096])\n",
    "get_all_process([10948,12048])"
   ]
  },
  {
   "cell_type": "code",
   "execution_count": 19,
   "id": "90a800a4",
   "metadata": {},
   "outputs": [
    {
     "name": "stdout",
     "output_type": "stream",
     "text": [
      "In the background... 22\n",
      "All done!\n",
      "Export Success\n",
      "In the background... 22\n",
      "All done!\n",
      "Export Success\n"
     ]
    }
   ],
   "source": [
    "do_process = False"
   ]
  },
  {
   "cell_type": "code",
   "execution_count": null,
   "id": "ec12afd6",
   "metadata": {},
   "outputs": [],
   "source": []
  }
 ],
 "metadata": {
  "kernelspec": {
   "display_name": "Python 3 (ipykernel)",
   "language": "python",
   "name": "python3"
  },
  "language_info": {
   "codemirror_mode": {
    "name": "ipython",
    "version": 3
   },
   "file_extension": ".py",
   "mimetype": "text/x-python",
   "name": "python",
   "nbconvert_exporter": "python",
   "pygments_lexer": "ipython3",
   "version": "3.10.0"
  }
 },
 "nbformat": 4,
 "nbformat_minor": 5
}

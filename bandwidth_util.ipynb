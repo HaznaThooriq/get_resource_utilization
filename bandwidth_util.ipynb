{
 "cells": [
  {
   "cell_type": "code",
   "execution_count": 54,
   "id": "6b3d765c",
   "metadata": {},
   "outputs": [],
   "source": [
    "from scapy.all import *\n",
    "import psutil\n",
    "from collections import defaultdict\n",
    "import os\n",
    "from threading import Thread\n",
    "import pandas as pd"
   ]
  },
  {
   "cell_type": "code",
   "execution_count": 55,
   "id": "f3ff0c61",
   "metadata": {},
   "outputs": [],
   "source": [
    "# get the all network adapter's MAC addresses\n",
    "all_macs = {iface.mac for iface in ifaces.values()}\n",
    "# A dictionary to map each connection to its correponding process ID (PID)\n",
    "connection2pid = {}\n",
    "# A dictionary to map each process ID (PID) to total Upload (0) and Download (1) traffic\n",
    "pid2traffic = defaultdict(lambda: [0, 0])\n",
    "# the global Pandas DataFrame that's used to track previous traffic stats\n",
    "global_df = None\n",
    "# global boolean for status of the program\n",
    "is_program_running = True\n",
    "#dataframe for export\n",
    "process_manager = pd.DataFrame()"
   ]
  },
  {
   "cell_type": "code",
   "execution_count": 56,
   "id": "e997dfa9",
   "metadata": {},
   "outputs": [],
   "source": [
    "input_pid = [3284,2720,4232,9936,10680]"
   ]
  },
  {
   "cell_type": "code",
   "execution_count": 57,
   "id": "9113d375",
   "metadata": {},
   "outputs": [],
   "source": [
    "def get_size(bytes):\n",
    "    \"\"\"\n",
    "    Returns size of bytes in a nice format\n",
    "    \"\"\"\n",
    "    for unit in ['', 'K', 'M', 'G', 'T', 'P']:\n",
    "        if bytes < 1024:\n",
    "            return f\"{bytes:.2f}{unit}B\"\n",
    "        bytes /= 1024"
   ]
  },
  {
   "cell_type": "code",
   "execution_count": 58,
   "id": "22f456cd",
   "metadata": {},
   "outputs": [],
   "source": [
    "def process_packet(packet):\n",
    "    global pid2traffic\n",
    "    try:\n",
    "        # get the packet source & destination IP addresses and ports\n",
    "        packet_connection = (packet.sport, packet.dport)\n",
    "    except (AttributeError, IndexError):\n",
    "        # sometimes the packet does not have TCP/UDP layers, we just ignore these packets\n",
    "        pass\n",
    "    else:\n",
    "        # get the PID responsible for this connection from our `connection2pid` global dictionary\n",
    "        packet_pid = connection2pid.get(packet_connection)\n",
    "        if packet_pid:\n",
    "            if packet.src in all_macs:\n",
    "                # the source MAC address of the packet is our MAC address\n",
    "                # so it's an outgoing packet, meaning it's upload\n",
    "                pid2traffic[packet_pid][0] += len(packet)\n",
    "            else:\n",
    "                # incoming packet, download\n",
    "                pid2traffic[packet_pid][1] += len(packet)"
   ]
  },
  {
   "cell_type": "code",
   "execution_count": 59,
   "id": "b585a143",
   "metadata": {},
   "outputs": [],
   "source": [
    "def get_connections():\n",
    "    \"\"\"A function that keeps listening for connections on this machine \n",
    "    and adds them to `connection2pid` global variable\"\"\"\n",
    "    global connection2pid\n",
    "    while is_program_running:\n",
    "        # using psutil, we can grab each connection's source and destination ports\n",
    "        # and their process ID\n",
    "        for c in psutil.net_connections():\n",
    "            if c.laddr and c.raddr and c.pid and c.pid in input_pid:\n",
    "                # if local address, remote address and PID are in the connection\n",
    "                # add them to our global dictionary\n",
    "                connection2pid[(c.laddr.port, c.raddr.port)] = c.pid\n",
    "                connection2pid[(c.raddr.port, c.laddr.port)] = c.pid\n",
    "        # sleep for a second, feel free to adjust this\n",
    "        time.sleep(1)"
   ]
  },
  {
   "cell_type": "code",
   "execution_count": 60,
   "id": "38d81eee",
   "metadata": {},
   "outputs": [],
   "source": [
    "def print_pid2traffic():\n",
    "    global global_df\n",
    "    # initialize the list of processes\n",
    "    processes = []\n",
    "    for pid, traffic in pid2traffic.items():\n",
    "        # `pid` is an integer that represents the process ID\n",
    "        # `traffic` is a list of two values: total Upload and Download size in bytes\n",
    "        try:\n",
    "            # get the process object from psutil\n",
    "            p = psutil.Process(pid)\n",
    "        except psutil.NoSuchProcess:\n",
    "            # if process is not found, simply continue to the next PID for now\n",
    "            continue\n",
    "        # get the name of the process, such as chrome.exe, etc.\n",
    "        name = p.name()\n",
    "        # get the time the process was spawned\n",
    "        try:\n",
    "            create_time = datetime.fromtimestamp(p.create_time())\n",
    "        except OSError:\n",
    "            # system processes, using boot time instead\n",
    "            create_time = datetime.fromtimestamp(psutil.boot_time())\n",
    "        # construct our dictionary that stores process info\n",
    "        process = {\n",
    "            \"pid\": pid, \"name\": name, \"create_time\": create_time, \"Upload\": traffic[0],\n",
    "            \"Download\": traffic[1],\n",
    "        }\n",
    "        try:\n",
    "            # calculate the upload and download speeds by simply subtracting the old stats from the new stats\n",
    "            process[\"Upload Speed\"] = traffic[0] - global_df.at[pid, \"Upload\"]\n",
    "            process[\"Download Speed\"] = traffic[1] - global_df.at[pid, \"Download\"]\n",
    "        except (KeyError, AttributeError):\n",
    "            # If it's the first time running this function, then the speed is the current traffic\n",
    "            # You can think of it as if old traffic is 0\n",
    "            process[\"Upload Speed\"] = traffic[0]\n",
    "            process[\"Download Speed\"] = traffic[1]\n",
    "        # append the process to our processes list\n",
    "        processes.append(process)\n",
    "    # construct our Pandas DataFrame\n",
    "    df = pd.DataFrame(processes)\n",
    "    try:\n",
    "        # set the PID as the index of the dataframe\n",
    "        df = df.set_index(\"pid\")\n",
    "        # sort by column, feel free to edit this column\n",
    "        df.sort_values(\"Download\", inplace=True, ascending=False)\n",
    "    except KeyError as e:\n",
    "        # when dataframe is empty\n",
    "        pass\n",
    "    # make another copy of the dataframe just for fancy printing\n",
    "    printing_df = df.copy()\n",
    "    try:\n",
    "        # apply the function get_size to scale the stats like '532.6KB/s', etc.\n",
    "        printing_df[\"Download\"] = printing_df[\"Download\"]\n",
    "        printing_df[\"Upload\"] = printing_df[\"Upload\"]\n",
    "        printing_df[\"Download Speed\"] = printing_df[\"Download Speed\"]\n",
    "        printing_df[\"Upload Speed\"] = printing_df[\"Upload Speed\"]\n",
    "    except KeyError as e:\n",
    "        # when dataframe is empty again\n",
    "        pass\n",
    "    # clear the screen based on your OS\n",
    "    os.system(\"cls\") if \"nt\" in os.name else os.system(\"clear\")\n",
    "    # print our dataframe\n",
    "    print(printing_df.to_string())\n",
    "    # update the global df to our dataframe\n",
    "    global_df = df\n",
    "    #process_manager\n",
    "    global process_manager\n",
    "    process_manager = process_manager.append(printing_df , ignore_index=True)"
   ]
  },
  {
   "cell_type": "code",
   "execution_count": 61,
   "id": "04ec7db9",
   "metadata": {},
   "outputs": [],
   "source": [
    "def print_stats():\n",
    "    \"\"\"Simple function that keeps printing the stats\"\"\"\n",
    "    while is_program_running:\n",
    "        time.sleep(1)\n",
    "        print_pid2traffic()"
   ]
  },
  {
   "cell_type": "code",
   "execution_count": 62,
   "id": "df16a752",
   "metadata": {},
   "outputs": [
    {
     "name": "stdout",
     "output_type": "stream",
     "text": [
      "Started sniffing\n",
      "Empty DataFrame\n",
      "Columns: []\n",
      "Index: []\n"
     ]
    },
    {
     "name": "stderr",
     "output_type": "stream",
     "text": [
      "C:\\Users\\Faizal Amiruddin\\AppData\\Local\\Temp\\ipykernel_7876\\1596210455.py:67: FutureWarning: The frame.append method is deprecated and will be removed from pandas in a future version. Use pandas.concat instead.\n",
      "  process_manager = process_manager.append(printing_df , ignore_index=True)\n"
     ]
    },
    {
     "name": "stdout",
     "output_type": "stream",
     "text": [
      "Empty DataFrame\n",
      "Columns: []\n",
      "Index: []\n"
     ]
    },
    {
     "name": "stderr",
     "output_type": "stream",
     "text": [
      "C:\\Users\\Faizal Amiruddin\\AppData\\Local\\Temp\\ipykernel_7876\\1596210455.py:67: FutureWarning: The frame.append method is deprecated and will be removed from pandas in a future version. Use pandas.concat instead.\n",
      "  process_manager = process_manager.append(printing_df , ignore_index=True)\n"
     ]
    },
    {
     "name": "stdout",
     "output_type": "stream",
     "text": [
      "Empty DataFrame\n",
      "Columns: []\n",
      "Index: []\n"
     ]
    },
    {
     "name": "stderr",
     "output_type": "stream",
     "text": [
      "C:\\Users\\Faizal Amiruddin\\AppData\\Local\\Temp\\ipykernel_7876\\1596210455.py:67: FutureWarning: The frame.append method is deprecated and will be removed from pandas in a future version. Use pandas.concat instead.\n",
      "  process_manager = process_manager.append(printing_df , ignore_index=True)\n"
     ]
    },
    {
     "name": "stdout",
     "output_type": "stream",
     "text": [
      "Empty DataFrame\n",
      "Columns: []\n",
      "Index: []\n"
     ]
    },
    {
     "name": "stderr",
     "output_type": "stream",
     "text": [
      "C:\\Users\\Faizal Amiruddin\\AppData\\Local\\Temp\\ipykernel_7876\\1596210455.py:67: FutureWarning: The frame.append method is deprecated and will be removed from pandas in a future version. Use pandas.concat instead.\n",
      "  process_manager = process_manager.append(printing_df , ignore_index=True)\n"
     ]
    },
    {
     "name": "stdout",
     "output_type": "stream",
     "text": [
      "Empty DataFrame\n",
      "Columns: []\n",
      "Index: []\n"
     ]
    },
    {
     "name": "stderr",
     "output_type": "stream",
     "text": [
      "C:\\Users\\Faizal Amiruddin\\AppData\\Local\\Temp\\ipykernel_7876\\1596210455.py:67: FutureWarning: The frame.append method is deprecated and will be removed from pandas in a future version. Use pandas.concat instead.\n",
      "  process_manager = process_manager.append(printing_df , ignore_index=True)\n"
     ]
    },
    {
     "name": "stdout",
     "output_type": "stream",
     "text": [
      "Empty DataFrame\n",
      "Columns: []\n",
      "Index: []\n"
     ]
    },
    {
     "name": "stderr",
     "output_type": "stream",
     "text": [
      "C:\\Users\\Faizal Amiruddin\\AppData\\Local\\Temp\\ipykernel_7876\\1596210455.py:67: FutureWarning: The frame.append method is deprecated and will be removed from pandas in a future version. Use pandas.concat instead.\n",
      "  process_manager = process_manager.append(printing_df , ignore_index=True)\n"
     ]
    },
    {
     "name": "stdout",
     "output_type": "stream",
     "text": [
      "Empty DataFrame\n",
      "Columns: []\n",
      "Index: []\n"
     ]
    },
    {
     "name": "stderr",
     "output_type": "stream",
     "text": [
      "C:\\Users\\Faizal Amiruddin\\AppData\\Local\\Temp\\ipykernel_7876\\1596210455.py:67: FutureWarning: The frame.append method is deprecated and will be removed from pandas in a future version. Use pandas.concat instead.\n",
      "  process_manager = process_manager.append(printing_df , ignore_index=True)\n"
     ]
    },
    {
     "name": "stdout",
     "output_type": "stream",
     "text": [
      "              name                create_time  Upload  Download  Upload Speed  Download Speed\n",
      "pid                                                                                          \n",
      "3284  Insomnia.exe 2022-08-30 19:40:52.251705    1792    156723          1792          156723\n"
     ]
    },
    {
     "name": "stderr",
     "output_type": "stream",
     "text": [
      "C:\\Users\\Faizal Amiruddin\\AppData\\Local\\Temp\\ipykernel_7876\\1596210455.py:67: FutureWarning: The frame.append method is deprecated and will be removed from pandas in a future version. Use pandas.concat instead.\n",
      "  process_manager = process_manager.append(printing_df , ignore_index=True)\n"
     ]
    },
    {
     "name": "stdout",
     "output_type": "stream",
     "text": [
      "              name                create_time  Upload  Download  Upload Speed  Download Speed\n",
      "pid                                                                                          \n",
      "3284  Insomnia.exe 2022-08-30 19:40:52.251705    4685    463775          2893          307052\n"
     ]
    },
    {
     "name": "stderr",
     "output_type": "stream",
     "text": [
      "C:\\Users\\Faizal Amiruddin\\AppData\\Local\\Temp\\ipykernel_7876\\1596210455.py:67: FutureWarning: The frame.append method is deprecated and will be removed from pandas in a future version. Use pandas.concat instead.\n",
      "  process_manager = process_manager.append(printing_df , ignore_index=True)\n"
     ]
    },
    {
     "name": "stdout",
     "output_type": "stream",
     "text": [
      "              name                create_time  Upload  Download  Upload Speed  Download Speed\n",
      "pid                                                                                          \n",
      "3284  Insomnia.exe 2022-08-30 19:40:52.251705    9761    765265          5076          301490\n"
     ]
    },
    {
     "name": "stderr",
     "output_type": "stream",
     "text": [
      "C:\\Users\\Faizal Amiruddin\\AppData\\Local\\Temp\\ipykernel_7876\\1596210455.py:67: FutureWarning: The frame.append method is deprecated and will be removed from pandas in a future version. Use pandas.concat instead.\n",
      "  process_manager = process_manager.append(printing_df , ignore_index=True)\n"
     ]
    },
    {
     "name": "stdout",
     "output_type": "stream",
     "text": [
      "              name                create_time  Upload  Download  Upload Speed  Download Speed\n",
      "pid                                                                                          \n",
      "3284  Insomnia.exe 2022-08-30 19:40:52.251705    9761    772595             0            7330\n"
     ]
    },
    {
     "name": "stderr",
     "output_type": "stream",
     "text": [
      "C:\\Users\\Faizal Amiruddin\\AppData\\Local\\Temp\\ipykernel_7876\\1596210455.py:67: FutureWarning: The frame.append method is deprecated and will be removed from pandas in a future version. Use pandas.concat instead.\n",
      "  process_manager = process_manager.append(printing_df , ignore_index=True)\n"
     ]
    }
   ],
   "source": [
    "if __name__ == \"__main__\":\n",
    "    # start the printing thread\n",
    "    printing_thread = Thread(target=print_stats)\n",
    "    printing_thread.start()\n",
    "    # start the get_connections() function to update the current connections of this machine\n",
    "    connections_thread = Thread(target=get_connections)\n",
    "    connections_thread.start()\n",
    "    # start sniffing\n",
    "    print(\"Started sniffing\")\n",
    "    sniff(prn=process_packet, store=False)\n",
    "    # setting the global variable to False to exit the program\n",
    "    is_program_running = False"
   ]
  },
  {
   "cell_type": "code",
   "execution_count": 63,
   "id": "48873b89",
   "metadata": {},
   "outputs": [
    {
     "name": "stdout",
     "output_type": "stream",
     "text": [
      "Export Success\n"
     ]
    }
   ],
   "source": [
    "process_manager.to_csv( 'export/network.csv')\n",
    "print (\"Export Success\")"
   ]
  }
 ],
 "metadata": {
  "kernelspec": {
   "display_name": "Python 3 (ipykernel)",
   "language": "python",
   "name": "python3"
  },
  "language_info": {
   "codemirror_mode": {
    "name": "ipython",
    "version": 3
   },
   "file_extension": ".py",
   "mimetype": "text/x-python",
   "name": "python",
   "nbconvert_exporter": "python",
   "pygments_lexer": "ipython3",
   "version": "3.10.4"
  }
 },
 "nbformat": 4,
 "nbformat_minor": 5
}
